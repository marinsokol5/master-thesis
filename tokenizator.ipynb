{
 "cells": [
  {
   "cell_type": "code",
   "execution_count": 1,
   "metadata": {},
   "outputs": [],
   "source": [
    "import pandas as pd\n",
    "import numpy as np\n",
    "from tokenizers import Tokenizer\n",
    "from tokenizers.models import BPE\n",
    "from tokenizers.trainers import BpeTrainer\n",
    "from tokenizers.pre_tokenizers import Whitespace\n",
    "from statistics import mean\n",
    "\n",
    "import seaborn as sns\n",
    "sns.set(rc={'figure.figsize':(10, 6)})\n",
    "\n",
    "from tqdm import tqdm\n",
    "import gc\n",
    "\n",
    "from constants import paths as p\n",
    "from constants import tokens as t\n",
    "from constants import hyperparameters as hp"
   ]
  },
  {
   "cell_type": "code",
   "execution_count": 2,
   "metadata": {},
   "outputs": [
    {
     "data": {
      "text/plain": [
       "(512, 506)"
      ]
     },
     "execution_count": 2,
     "metadata": {},
     "output_type": "execute_result"
    }
   ],
   "source": [
    "hp.SOURCE_MAX_NUMBER_OF_TOKENS, hp.SOURCE_MAX_NUMBER_OF_SUBWORDS"
   ]
  },
  {
   "cell_type": "code",
   "execution_count": 4,
   "metadata": {},
   "outputs": [
    {
     "data": {
      "text/plain": [
       "(256, 255)"
      ]
     },
     "execution_count": 4,
     "metadata": {},
     "output_type": "execute_result"
    }
   ],
   "source": [
    "hp.TARGET_MAX_NUMBER_OF_TOKENS, hp.TARGET_MAX_NUMBER_OF_SUBWORDS"
   ]
  },
  {
   "cell_type": "code",
   "execution_count": 5,
   "metadata": {},
   "outputs": [],
   "source": [
    "dataset = pd.read_pickle(p.DATASET_PATH)\n",
    "test_set = pd.read_pickle(p.TEST_SET_PATH)"
   ]
  },
  {
   "cell_type": "code",
   "execution_count": 6,
   "metadata": {},
   "outputs": [
    {
     "data": {
      "text/html": [
       "<div>\n",
       "<style scoped>\n",
       "    .dataframe tbody tr th:only-of-type {\n",
       "        vertical-align: middle;\n",
       "    }\n",
       "\n",
       "    .dataframe tbody tr th {\n",
       "        vertical-align: top;\n",
       "    }\n",
       "\n",
       "    .dataframe thead th {\n",
       "        text-align: right;\n",
       "    }\n",
       "</style>\n",
       "<table border=\"1\" class=\"dataframe\">\n",
       "  <thead>\n",
       "    <tr style=\"text-align: right;\">\n",
       "      <th></th>\n",
       "      <th>id</th>\n",
       "      <th>input</th>\n",
       "      <th>output</th>\n",
       "    </tr>\n",
       "  </thead>\n",
       "  <tbody>\n",
       "    <tr>\n",
       "      <th>0</th>\n",
       "      <td>tt0004972</td>\n",
       "      <td>[{'title': 'Hateful, mean-spirited propaganda....</td>\n",
       "      <td>{'title': 'One of the all time greats', 'ratin...</td>\n",
       "    </tr>\n",
       "    <tr>\n",
       "      <th>1</th>\n",
       "      <td>tt0004972</td>\n",
       "      <td>[{'title': 'One of the all time greats', 'rati...</td>\n",
       "      <td>{'title': 'Hateful, mean-spirited propaganda.....</td>\n",
       "    </tr>\n",
       "    <tr>\n",
       "      <th>2</th>\n",
       "      <td>tt0004972</td>\n",
       "      <td>[{'title': 'One of the all time greats', 'rati...</td>\n",
       "      <td>{'title': 'Horrible film', 'rating': 1, 'body'...</td>\n",
       "    </tr>\n",
       "    <tr>\n",
       "      <th>3</th>\n",
       "      <td>tt0004972</td>\n",
       "      <td>[{'title': 'One of the all time greats', 'rati...</td>\n",
       "      <td>{'title': 'A major watermark for all that was ...</td>\n",
       "    </tr>\n",
       "    <tr>\n",
       "      <th>4</th>\n",
       "      <td>tt0004972</td>\n",
       "      <td>[{'title': 'Skillfully Executed Hate Cinema', ...</td>\n",
       "      <td>{'title': 'A Great Classic', 'rating': 10, 'bo...</td>\n",
       "    </tr>\n",
       "    <tr>\n",
       "      <th>...</th>\n",
       "      <td>...</td>\n",
       "      <td>...</td>\n",
       "      <td>...</td>\n",
       "    </tr>\n",
       "    <tr>\n",
       "      <th>143596</th>\n",
       "      <td>tt9908860</td>\n",
       "      <td>[{'title': 'You will be disappointed in the wi...</td>\n",
       "      <td>{'title': 'Great!', 'rating': 9, 'body': 'Kind...</td>\n",
       "    </tr>\n",
       "    <tr>\n",
       "      <th>143597</th>\n",
       "      <td>tt9908860</td>\n",
       "      <td>[{'title': 'Ashamed to be a glassblower if the...</td>\n",
       "      <td>{'title': 'Truly annoying!', 'rating': 1, 'bod...</td>\n",
       "    </tr>\n",
       "    <tr>\n",
       "      <th>143598</th>\n",
       "      <td>tt9908860</td>\n",
       "      <td>[{'title': 'Truly annoying!', 'rating': 1, 'bo...</td>\n",
       "      <td>{'title': 'Ashamed to be a glassblower if thes...</td>\n",
       "    </tr>\n",
       "    <tr>\n",
       "      <th>143599</th>\n",
       "      <td>tt9908860</td>\n",
       "      <td>[{'title': 'Truly annoying!', 'rating': 1, 'bo...</td>\n",
       "      <td>{'title': 'Blown away by Deborah's attitude', ...</td>\n",
       "    </tr>\n",
       "    <tr>\n",
       "      <th>143600</th>\n",
       "      <td>tt9908860</td>\n",
       "      <td>[{'title': 'Truly annoying!', 'rating': 1, 'bo...</td>\n",
       "      <td>{'title': 'This show was annoying.', 'rating':...</td>\n",
       "    </tr>\n",
       "  </tbody>\n",
       "</table>\n",
       "<p>143601 rows × 3 columns</p>\n",
       "</div>"
      ],
      "text/plain": [
       "               id                                              input  \\\n",
       "0       tt0004972  [{'title': 'Hateful, mean-spirited propaganda....   \n",
       "1       tt0004972  [{'title': 'One of the all time greats', 'rati...   \n",
       "2       tt0004972  [{'title': 'One of the all time greats', 'rati...   \n",
       "3       tt0004972  [{'title': 'One of the all time greats', 'rati...   \n",
       "4       tt0004972  [{'title': 'Skillfully Executed Hate Cinema', ...   \n",
       "...           ...                                                ...   \n",
       "143596  tt9908860  [{'title': 'You will be disappointed in the wi...   \n",
       "143597  tt9908860  [{'title': 'Ashamed to be a glassblower if the...   \n",
       "143598  tt9908860  [{'title': 'Truly annoying!', 'rating': 1, 'bo...   \n",
       "143599  tt9908860  [{'title': 'Truly annoying!', 'rating': 1, 'bo...   \n",
       "143600  tt9908860  [{'title': 'Truly annoying!', 'rating': 1, 'bo...   \n",
       "\n",
       "                                                   output  \n",
       "0       {'title': 'One of the all time greats', 'ratin...  \n",
       "1       {'title': 'Hateful, mean-spirited propaganda.....  \n",
       "2       {'title': 'Horrible film', 'rating': 1, 'body'...  \n",
       "3       {'title': 'A major watermark for all that was ...  \n",
       "4       {'title': 'A Great Classic', 'rating': 10, 'bo...  \n",
       "...                                                   ...  \n",
       "143596  {'title': 'Great!', 'rating': 9, 'body': 'Kind...  \n",
       "143597  {'title': 'Truly annoying!', 'rating': 1, 'bod...  \n",
       "143598  {'title': 'Ashamed to be a glassblower if thes...  \n",
       "143599  {'title': 'Blown away by Deborah's attitude', ...  \n",
       "143600  {'title': 'This show was annoying.', 'rating':...  \n",
       "\n",
       "[143601 rows x 3 columns]"
      ]
     },
     "execution_count": 6,
     "metadata": {},
     "output_type": "execute_result"
    }
   ],
   "source": [
    "dataset"
   ]
  },
  {
   "cell_type": "code",
   "execution_count": 7,
   "metadata": {},
   "outputs": [
    {
     "data": {
      "text/plain": [
       "{'title': 'One of the all time greats',\n",
       " 'rating': 10,\n",
       " 'body': 'Considering when The Birth Of A Nation was made and considering what came before, this is one of if not the greatest film ever made. It may not conform to the modern view of race relations. Never the less, it is an unforgitable viewing experience. A must see for any serious film historian.',\n",
       " 'found_helpful': 13,\n",
       " 'found_not_helpful': 17}"
      ]
     },
     "execution_count": 7,
     "metadata": {},
     "output_type": "execute_result"
    }
   ],
   "source": [
    "dataset.loc[0].output"
   ]
  },
  {
   "cell_type": "code",
   "execution_count": 8,
   "metadata": {},
   "outputs": [],
   "source": [
    "def helpfulness(x):\n",
    "    return x[\"found_helpful\"] / (x[\"found_helpful\"] + x[\"found_not_helpful\"])"
   ]
  },
  {
   "cell_type": "code",
   "execution_count": 9,
   "metadata": {},
   "outputs": [],
   "source": [
    "column = \"helpfulness_difference\"\n",
    "dataset[column] = dataset.output.apply(helpfulness) - dataset.input.apply(lambda l: mean([helpfulness(x) for x in l]))\n",
    "test_set[column] = 1"
   ]
  },
  {
   "cell_type": "code",
   "execution_count": 10,
   "metadata": {},
   "outputs": [],
   "source": [
    "column = \"rating_difference\"\n",
    "dataset[column] = dataset.output.apply(lambda x: x[\"rating\"]) - dataset.input.apply(lambda l: mean([x[\"rating\"] for x in l]))\n",
    "test_set[column] = 0"
   ]
  },
  {
   "cell_type": "code",
   "execution_count": 11,
   "metadata": {},
   "outputs": [],
   "source": [
    "column = \"length_difference\"\n",
    "dataset[column] = dataset.output.apply(lambda x: len(x['body'])) - dataset.input.apply(lambda l: mean([len(x[\"body\"]) for x in l]))\n",
    "test_set[column] = 0"
   ]
  },
  {
   "cell_type": "code",
   "execution_count": 12,
   "metadata": {},
   "outputs": [
    {
     "data": {
      "text/html": [
       "<div>\n",
       "<style scoped>\n",
       "    .dataframe tbody tr th:only-of-type {\n",
       "        vertical-align: middle;\n",
       "    }\n",
       "\n",
       "    .dataframe tbody tr th {\n",
       "        vertical-align: top;\n",
       "    }\n",
       "\n",
       "    .dataframe thead th {\n",
       "        text-align: right;\n",
       "    }\n",
       "</style>\n",
       "<table border=\"1\" class=\"dataframe\">\n",
       "  <thead>\n",
       "    <tr style=\"text-align: right;\">\n",
       "      <th></th>\n",
       "      <th>id</th>\n",
       "      <th>input</th>\n",
       "      <th>output</th>\n",
       "      <th>helpfulness_difference</th>\n",
       "      <th>rating_difference</th>\n",
       "      <th>length_difference</th>\n",
       "    </tr>\n",
       "  </thead>\n",
       "  <tbody>\n",
       "    <tr>\n",
       "      <th>0</th>\n",
       "      <td>tt0004972</td>\n",
       "      <td>[{'title': 'Hateful, mean-spirited propaganda....</td>\n",
       "      <td>{'title': 'One of the all time greats', 'ratin...</td>\n",
       "      <td>-0.038816</td>\n",
       "      <td>6.0</td>\n",
       "      <td>-440.666667</td>\n",
       "    </tr>\n",
       "    <tr>\n",
       "      <th>1</th>\n",
       "      <td>tt0004972</td>\n",
       "      <td>[{'title': 'One of the all time greats', 'rati...</td>\n",
       "      <td>{'title': 'Hateful, mean-spirited propaganda.....</td>\n",
       "      <td>0.013036</td>\n",
       "      <td>-6.0</td>\n",
       "      <td>-43.333333</td>\n",
       "    </tr>\n",
       "    <tr>\n",
       "      <th>2</th>\n",
       "      <td>tt0004972</td>\n",
       "      <td>[{'title': 'One of the all time greats', 'rati...</td>\n",
       "      <td>{'title': 'Horrible film', 'rating': 1, 'body'...</td>\n",
       "      <td>-0.059380</td>\n",
       "      <td>-6.0</td>\n",
       "      <td>59.333333</td>\n",
       "    </tr>\n",
       "    <tr>\n",
       "      <th>3</th>\n",
       "      <td>tt0004972</td>\n",
       "      <td>[{'title': 'One of the all time greats', 'rati...</td>\n",
       "      <td>{'title': 'A major watermark for all that was ...</td>\n",
       "      <td>0.085160</td>\n",
       "      <td>6.0</td>\n",
       "      <td>424.666667</td>\n",
       "    </tr>\n",
       "  </tbody>\n",
       "</table>\n",
       "</div>"
      ],
      "text/plain": [
       "          id                                              input  \\\n",
       "0  tt0004972  [{'title': 'Hateful, mean-spirited propaganda....   \n",
       "1  tt0004972  [{'title': 'One of the all time greats', 'rati...   \n",
       "2  tt0004972  [{'title': 'One of the all time greats', 'rati...   \n",
       "3  tt0004972  [{'title': 'One of the all time greats', 'rati...   \n",
       "\n",
       "                                              output  helpfulness_difference  \\\n",
       "0  {'title': 'One of the all time greats', 'ratin...               -0.038816   \n",
       "1  {'title': 'Hateful, mean-spirited propaganda.....                0.013036   \n",
       "2  {'title': 'Horrible film', 'rating': 1, 'body'...               -0.059380   \n",
       "3  {'title': 'A major watermark for all that was ...                0.085160   \n",
       "\n",
       "   rating_difference  length_difference  \n",
       "0                6.0        -440.666667  \n",
       "1               -6.0         -43.333333  \n",
       "2               -6.0          59.333333  \n",
       "3                6.0         424.666667  "
      ]
     },
     "execution_count": 12,
     "metadata": {},
     "output_type": "execute_result"
    }
   ],
   "source": [
    "dataset[:4]"
   ]
  },
  {
   "cell_type": "code",
   "execution_count": 13,
   "metadata": {},
   "outputs": [
    {
     "data": {
      "text/html": [
       "<div>\n",
       "<style scoped>\n",
       "    .dataframe tbody tr th:only-of-type {\n",
       "        vertical-align: middle;\n",
       "    }\n",
       "\n",
       "    .dataframe tbody tr th {\n",
       "        vertical-align: top;\n",
       "    }\n",
       "\n",
       "    .dataframe thead th {\n",
       "        text-align: right;\n",
       "    }\n",
       "</style>\n",
       "<table border=\"1\" class=\"dataframe\">\n",
       "  <thead>\n",
       "    <tr style=\"text-align: right;\">\n",
       "      <th></th>\n",
       "      <th>id</th>\n",
       "      <th>input</th>\n",
       "      <th>output</th>\n",
       "      <th>helpfulness_difference</th>\n",
       "      <th>rating_difference</th>\n",
       "      <th>length_difference</th>\n",
       "    </tr>\n",
       "  </thead>\n",
       "  <tbody>\n",
       "    <tr>\n",
       "      <th>0</th>\n",
       "      <td>tt0010307</td>\n",
       "      <td>[{'title': 'A super-important film to the hist...</td>\n",
       "      <td>{'title': 'Almost as large in scope as '\"Intol...</td>\n",
       "      <td>1</td>\n",
       "      <td>0</td>\n",
       "      <td>0</td>\n",
       "    </tr>\n",
       "    <tr>\n",
       "      <th>1</th>\n",
       "      <td>tt0011130</td>\n",
       "      <td>[{'title': 'Genuinely frightening', 'rating': ...</td>\n",
       "      <td>{'title': 'John Barrymore-The Definitive Hyde'...</td>\n",
       "      <td>1</td>\n",
       "      <td>0</td>\n",
       "      <td>0</td>\n",
       "    </tr>\n",
       "    <tr>\n",
       "      <th>2</th>\n",
       "      <td>tt0011870</td>\n",
       "      <td>[{'title': 'Incredible Silent Film', 'rating':...</td>\n",
       "      <td>{'title': 'Oscar Micheaux directed and wrote t...</td>\n",
       "      <td>1</td>\n",
       "      <td>0</td>\n",
       "      <td>0</td>\n",
       "    </tr>\n",
       "    <tr>\n",
       "      <th>3</th>\n",
       "      <td>tt0012938</td>\n",
       "      <td>[{'title': 'Seen at the New York Film Festival...</td>\n",
       "      <td>{'title': 'Swanson and Valentino Together Agai...</td>\n",
       "      <td>1</td>\n",
       "      <td>0</td>\n",
       "      <td>0</td>\n",
       "    </tr>\n",
       "  </tbody>\n",
       "</table>\n",
       "</div>"
      ],
      "text/plain": [
       "          id                                              input  \\\n",
       "0  tt0010307  [{'title': 'A super-important film to the hist...   \n",
       "1  tt0011130  [{'title': 'Genuinely frightening', 'rating': ...   \n",
       "2  tt0011870  [{'title': 'Incredible Silent Film', 'rating':...   \n",
       "3  tt0012938  [{'title': 'Seen at the New York Film Festival...   \n",
       "\n",
       "                                              output  helpfulness_difference  \\\n",
       "0  {'title': 'Almost as large in scope as '\"Intol...                       1   \n",
       "1  {'title': 'John Barrymore-The Definitive Hyde'...                       1   \n",
       "2  {'title': 'Oscar Micheaux directed and wrote t...                       1   \n",
       "3  {'title': 'Swanson and Valentino Together Agai...                       1   \n",
       "\n",
       "   rating_difference  length_difference  \n",
       "0                  0                  0  \n",
       "1                  0                  0  \n",
       "2                  0                  0  \n",
       "3                  0                  0  "
      ]
     },
     "execution_count": 13,
     "metadata": {},
     "output_type": "execute_result"
    }
   ],
   "source": [
    "test_set[:4]"
   ]
  },
  {
   "cell_type": "code",
   "execution_count": 14,
   "metadata": {},
   "outputs": [
    {
     "data": {
      "text/plain": [
       "'Considering when The Birth Of A Nation was made and considering what came before, this is one of if not the greatest film ever made. It may not conform to the modern view of race relations. Never the less, it is an unforgitable viewing experience. A must see for any serious film historian.'"
      ]
     },
     "execution_count": 14,
     "metadata": {},
     "output_type": "execute_result"
    }
   ],
   "source": [
    "dataset.loc[0].output['body']"
   ]
  },
  {
   "cell_type": "markdown",
   "metadata": {},
   "source": [
    "i can add rogue difference later "
   ]
  },
  {
   "cell_type": "code",
   "execution_count": null,
   "metadata": {},
   "outputs": [],
   "source": []
  },
  {
   "cell_type": "code",
   "execution_count": 15,
   "metadata": {},
   "outputs": [],
   "source": [
    "np.random.seed(42)"
   ]
  },
  {
   "cell_type": "code",
   "execution_count": 15,
   "metadata": {
    "collapsed": true
   },
   "outputs": [
    {
     "data": {
      "text/plain": [
       "0         [{'title': 'Hateful, mean-spirited propaganda....\n",
       "1         [{'title': 'One of the all time greats', 'rati...\n",
       "2         [{'title': 'One of the all time greats', 'rati...\n",
       "3         [{'title': 'One of the all time greats', 'rati...\n",
       "4         [{'title': 'Skillfully Executed Hate Cinema', ...\n",
       "                                ...                        \n",
       "143596    [{'title': 'You will be disappointed in the wi...\n",
       "143597    [{'title': 'Ashamed to be a glassblower if the...\n",
       "143598    [{'title': 'Truly annoying!', 'rating': 1, 'bo...\n",
       "143599    [{'title': 'Truly annoying!', 'rating': 1, 'bo...\n",
       "143600    [{'title': 'Truly annoying!', 'rating': 1, 'bo...\n",
       "Name: input, Length: 143601, dtype: object"
      ]
     },
     "execution_count": 15,
     "metadata": {},
     "output_type": "execute_result"
    }
   ],
   "source": [
    "dataset.input"
   ]
  },
  {
   "cell_type": "code",
   "execution_count": 17,
   "metadata": {},
   "outputs": [],
   "source": [
    "dataset.input = dataset.input.apply(np.random.permutation)"
   ]
  },
  {
   "cell_type": "code",
   "execution_count": 17,
   "metadata": {
    "collapsed": true
   },
   "outputs": [
    {
     "data": {
      "text/plain": [
       "0         [{'title': 'Hateful, mean-spirited propaganda....\n",
       "1         [{'title': 'Horrible film', 'rating': 1, 'body...\n",
       "2         [{'title': 'One of the all time greats', 'rati...\n",
       "3         [{'title': 'Hateful, mean-spirited propaganda....\n",
       "4         [{'title': 'Skillfully Executed Hate Cinema', ...\n",
       "                                ...                        \n",
       "143596    [{'title': 'You will be disappointed in the wi...\n",
       "143597    [{'title': 'Blown away by Deborah's attitude',...\n",
       "143598    [{'title': 'Truly annoying!', 'rating': 1, 'bo...\n",
       "143599    [{'title': 'This show was annoying.', 'rating'...\n",
       "143600    [{'title': 'Truly annoying!', 'rating': 1, 'bo...\n",
       "Name: input, Length: 143601, dtype: object"
      ]
     },
     "execution_count": 17,
     "metadata": {},
     "output_type": "execute_result"
    }
   ],
   "source": [
    "dataset.input"
   ]
  },
  {
   "cell_type": "code",
   "execution_count": 18,
   "metadata": {},
   "outputs": [],
   "source": [
    "dataset[\"target_string\"] = dataset.output.apply(lambda r : r['body'])"
   ]
  },
  {
   "cell_type": "code",
   "execution_count": null,
   "metadata": {},
   "outputs": [],
   "source": []
  },
  {
   "cell_type": "markdown",
   "metadata": {},
   "source": [
    "###  Search for best vocabulary size"
   ]
  },
  {
   "cell_type": "code",
   "execution_count": 16,
   "metadata": {},
   "outputs": [
    {
     "data": {
      "text/plain": [
       "143601"
      ]
     },
     "execution_count": 16,
     "metadata": {},
     "output_type": "execute_result"
    }
   ],
   "source": [
    "len(dataset)"
   ]
  },
  {
   "cell_type": "code",
   "execution_count": 17,
   "metadata": {},
   "outputs": [],
   "source": [
    "train, validation = np.split(dataset.sample(frac=1, random_state=42), [int(0.85*len(dataset))])"
   ]
  },
  {
   "cell_type": "code",
   "execution_count": 18,
   "metadata": {},
   "outputs": [
    {
     "data": {
      "text/plain": [
       "(122060, 21541)"
      ]
     },
     "execution_count": 18,
     "metadata": {},
     "output_type": "execute_result"
    }
   ],
   "source": [
    "len(train), len(validation)"
   ]
  },
  {
   "cell_type": "code",
   "execution_count": 19,
   "metadata": {},
   "outputs": [
    {
     "data": {
      "text/plain": [
       "True"
      ]
     },
     "execution_count": 19,
     "metadata": {},
     "output_type": "execute_result"
    }
   ],
   "source": [
    "len(train) + len(validation) == len(dataset)"
   ]
  },
  {
   "cell_type": "code",
   "execution_count": 20,
   "metadata": {},
   "outputs": [],
   "source": [
    "train_all_reviews_combined = \"\\n\".join(train.target_string)\n",
    "validation_all_reviews_combined = \"\\n\".join(validation.target_string)"
   ]
  },
  {
   "cell_type": "code",
   "execution_count": 21,
   "metadata": {},
   "outputs": [
    {
     "data": {
      "text/plain": [
       "68223920"
      ]
     },
     "execution_count": 21,
     "metadata": {},
     "output_type": "execute_result"
    }
   ],
   "source": [
    "open(p.TRAIN_REVIEWS_TMP_RAW_TEXT_PATH, \"w\").write(train_all_reviews_combined)"
   ]
  },
  {
   "cell_type": "code",
   "execution_count": null,
   "metadata": {},
   "outputs": [],
   "source": []
  },
  {
   "cell_type": "code",
   "execution_count": 22,
   "metadata": {},
   "outputs": [],
   "source": [
    "tokenizer = Tokenizer(BPE())\n",
    "tokenizer.pre_tokenizer = Whitespace()"
   ]
  },
  {
   "cell_type": "code",
   "execution_count": 22,
   "metadata": {},
   "outputs": [],
   "source": []
  },
  {
   "cell_type": "code",
   "execution_count": 23,
   "metadata": {},
   "outputs": [],
   "source": [
    "number_of_tokens_per_input = dataset.input.apply(lambda input: len(tokenizer.pre_tokenizer.pre_tokenize_str(\"\\n\".join([r['body'] for r in input]))))"
   ]
  },
  {
   "cell_type": "code",
   "execution_count": 25,
   "metadata": {},
   "outputs": [
    {
     "data": {
      "text/plain": [
       "512"
      ]
     },
     "execution_count": 25,
     "metadata": {},
     "output_type": "execute_result"
    }
   ],
   "source": [
    "hp.MAX_NUMBER_OF_TOKENS"
   ]
  },
  {
   "cell_type": "code",
   "execution_count": 26,
   "metadata": {},
   "outputs": [
    {
     "name": "stderr",
     "output_type": "stream",
     "text": [
      "/home/marin/anaconda3/lib/python3.8/site-packages/seaborn/_decorators.py:36: FutureWarning: Pass the following variable as a keyword arg: x. From version 0.12, the only valid positional argument will be `data`, and passing other arguments without an explicit keyword will result in an error or misinterpretation.\n",
      "  warnings.warn(\n"
     ]
    },
    {
     "data": {
      "text/plain": [
       "<matplotlib.axes._subplots.AxesSubplot at 0x7f58882cd190>"
      ]
     },
     "execution_count": 26,
     "metadata": {},
     "output_type": "execute_result"
    },
    {
     "data": {
      "image/png": "[encoded data removed]",
      "text/plain": [
       "<Figure size 720x432 with 1 Axes>"
      ]
     },
     "metadata": {},
     "output_type": "display_data"
    }
   ],
   "source": [
    "sns.violinplot(number_of_tokens_per_input)"
   ]
  },
  {
   "cell_type": "code",
   "execution_count": null,
   "metadata": {},
   "outputs": [],
   "source": []
  },
  {
   "cell_type": "code",
   "execution_count": 27,
   "metadata": {},
   "outputs": [],
   "source": [
    "number_of_unique_tokens_in_train = len(set([t[0] for t in tokenizer.pre_tokenizer.pre_tokenize_str(train_all_reviews_combined)]))"
   ]
  },
  {
   "cell_type": "code",
   "execution_count": 28,
   "metadata": {},
   "outputs": [
    {
     "data": {
      "text/plain": [
       "123515"
      ]
     },
     "execution_count": 28,
     "metadata": {},
     "output_type": "execute_result"
    }
   ],
   "source": [
    "number_of_unique_tokens_in_train"
   ]
  },
  {
   "cell_type": "code",
   "execution_count": 29,
   "metadata": {},
   "outputs": [],
   "source": [
    "number_of_unique_tokens_in_validation = len(set([t[0] for t in tokenizer.pre_tokenizer.pre_tokenize_str(validation_all_reviews_combined)]))"
   ]
  },
  {
   "cell_type": "code",
   "execution_count": 30,
   "metadata": {},
   "outputs": [
    {
     "data": {
      "text/plain": [
       "54707"
      ]
     },
     "execution_count": 30,
     "metadata": {},
     "output_type": "execute_result"
    }
   ],
   "source": [
    "number_of_unique_tokens_in_validation"
   ]
  },
  {
   "cell_type": "code",
   "execution_count": 31,
   "metadata": {},
   "outputs": [],
   "source": [
    "vocab_sizes = [1_000, 2_000, 3_000, 5_000, 10_000, 15_000, 20_000, 25_000, 30_000, 35_000, 40_000]"
   ]
  },
  {
   "cell_type": "code",
   "execution_count": 32,
   "metadata": {},
   "outputs": [],
   "source": [
    "number_of_uknown_tokens = []"
   ]
  },
  {
   "cell_type": "code",
   "execution_count": 33,
   "metadata": {},
   "outputs": [],
   "source": [
    "number_of_tokens = []"
   ]
  },
  {
   "cell_type": "code",
   "execution_count": 36,
   "metadata": {},
   "outputs": [
    {
     "name": "stderr",
     "output_type": "stream",
     "text": [
      "100%|██████████| 11/11 [02:57<00:00, 16.10s/it]\n"
     ]
    }
   ],
   "source": [
    "for vocab_size in tqdm(vocab_sizes):\n",
    "    trainer = BpeTrainer(special_tokens=t.SPECIAL_TOKENS, vocab_size=vocab_size, min_frequency=0)\n",
    "    tokenizer.train(trainer, [p.TRAIN_REVIEWS_TMP_RAW_TEXT_PATH])\n",
    "    \n",
    "    files = tokenizer.model.save(\"tokenizers\", \"tmp\")\n",
    "    tokenizer.model = BPE.from_file(*files, unk_token=t.UNKNOWN_TOKEN)\n",
    "    \n",
    "    validation_encoded = tokenizer.encode(validation_all_reviews_combined)\n",
    "    number_of_uknown_tokens.append(len(validation_encoded.ids) - np.count_nonzero(validation_encoded.ids))\n",
    "    number_of_tokens.append(len(validation_encoded.tokens))"
   ]
  },
  {
   "cell_type": "code",
   "execution_count": 37,
   "metadata": {},
   "outputs": [
    {
     "data": {
      "text/plain": [
       "[57, 57, 57, 57, 57, 57, 57, 57, 57, 57, 57]"
      ]
     },
     "execution_count": 37,
     "metadata": {},
     "output_type": "execute_result"
    }
   ],
   "source": [
    "number_of_uknown_tokens"
   ]
  },
  {
   "cell_type": "code",
   "execution_count": 38,
   "metadata": {},
   "outputs": [],
   "source": [
    "real_number_of_tokens = len(tokenizer.pre_tokenizer.pre_tokenize_str(validation_all_reviews_combined))"
   ]
  },
  {
   "cell_type": "markdown",
   "metadata": {},
   "source": [
    "size of vocabulary, ratio of vocab size and how much unique tokens are there in validation data,how much tokens he found in validation data, comparison between how much tokens he found vs the real number of tokens -> if every token was separated in it's own subword then this would be 1.00 which is not what we want as no lemmatizaiton and stuff like that will be done."
   ]
  },
  {
   "cell_type": "markdown",
   "metadata": {},
   "source": [
    "best one is 20k, this table below is read: ok so if i have availability to take on 73% of unique tokens then i cover 98% of tokens"
   ]
  },
  {
   "cell_type": "code",
   "execution_count": 39,
   "metadata": {},
   "outputs": [
    {
     "data": {
      "text/plain": [
       "[(1000, 0.01827919644652421, 4230844, 0.6040243979688213),\n",
       " (2000, 0.03655839289304842, 3484697, 0.7333587396551264),\n",
       " (3000, 0.05483758933957263, 3220010, 0.7936413240952668),\n",
       " (5000, 0.09139598223262105, 2985120, 0.8560905424237552),\n",
       " (10000, 0.1827919644652421, 2780062, 0.9192359738739639),\n",
       " (15000, 0.27418794669786317, 2702501, 0.94561778145503),\n",
       " (20000, 0.3655839289304842, 2662121, 0.9599612489439812),\n",
       " (25000, 0.45697991116310527, 2637858, 0.968790966003477),\n",
       " (30000, 0.5483758933957263, 2621819, 0.9747175529660895),\n",
       " (35000, 0.6397718756283474, 2610566, 0.9789191309470819),\n",
       " (40000, 0.7311678578609684, 2602374, 0.9820006655461513)]"
      ]
     },
     "execution_count": 39,
     "metadata": {},
     "output_type": "execute_result"
    }
   ],
   "source": [
    "[(vocab_size, vocab_size/number_of_unique_tokens_in_validation, token_number, real_number_of_tokens/token_number) for vocab_size,token_number in zip(vocab_sizes, number_of_tokens)]"
   ]
  },
  {
   "cell_type": "code",
   "execution_count": 40,
   "metadata": {},
   "outputs": [
    {
     "name": "stderr",
     "output_type": "stream",
     "text": [
      "/home/marin/anaconda3/lib/python3.8/site-packages/seaborn/_decorators.py:36: FutureWarning: Pass the following variables as keyword args: x, y. From version 0.12, the only valid positional argument will be `data`, and passing other arguments without an explicit keyword will result in an error or misinterpretation.\n",
      "  warnings.warn(\n"
     ]
    },
    {
     "data": {
      "text/plain": [
       "<matplotlib.axes._subplots.AxesSubplot at 0x7f585c4abb20>"
      ]
     },
     "execution_count": 40,
     "metadata": {},
     "output_type": "execute_result"
    },
    {
     "data": {
      "image/png": "[encoded data removed]",
      "text/plain": [
       "<Figure size 720x432 with 1 Axes>"
      ]
     },
     "metadata": {},
     "output_type": "display_data"
    }
   ],
   "source": [
    "sns.scatterplot(vocab_sizes, number_of_tokens)"
   ]
  },
  {
   "cell_type": "code",
   "execution_count": null,
   "metadata": {},
   "outputs": [],
   "source": []
  },
  {
   "cell_type": "markdown",
   "metadata": {},
   "source": [
    "## Numericalization"
   ]
  },
  {
   "cell_type": "code",
   "execution_count": 19,
   "metadata": {},
   "outputs": [
    {
     "data": {
      "text/plain": [
       "80214389"
      ]
     },
     "execution_count": 19,
     "metadata": {},
     "output_type": "execute_result"
    }
   ],
   "source": [
    "open(p.DATASET_REVIEWS_TMP_RAW_TEXT_PATH, \"w\").write(\"\\n\".join(dataset.target_string))"
   ]
  },
  {
   "cell_type": "code",
   "execution_count": 20,
   "metadata": {},
   "outputs": [],
   "source": [
    "tokenizer = Tokenizer(BPE())\n",
    "tokenizer.pre_tokenizer = Whitespace()"
   ]
  },
  {
   "cell_type": "code",
   "execution_count": 21,
   "metadata": {},
   "outputs": [
    {
     "data": {
      "text/plain": [
       "['[UNK]', '[START]', '[END]', '[PAD]']"
      ]
     },
     "execution_count": 21,
     "metadata": {},
     "output_type": "execute_result"
    }
   ],
   "source": [
    "t.SPECIAL_TOKENS"
   ]
  },
  {
   "cell_type": "code",
   "execution_count": 22,
   "metadata": {},
   "outputs": [],
   "source": [
    "trainer = BpeTrainer(special_tokens=t.SPECIAL_TOKENS, vocab_size=hp.VOCABULARY_SIZE, min_frequency=0)"
   ]
  },
  {
   "cell_type": "code",
   "execution_count": 23,
   "metadata": {},
   "outputs": [],
   "source": [
    "tokenizer.train(trainer, [p.DATASET_REVIEWS_TMP_RAW_TEXT_PATH])"
   ]
  },
  {
   "cell_type": "code",
   "execution_count": 24,
   "metadata": {},
   "outputs": [],
   "source": [
    "files = tokenizer.model.save(\"tokenizers\", \"dataset\")\n",
    "tokenizer.model = BPE.from_file(*files, unk_token=t.UNKNOWN_TOKEN)"
   ]
  },
  {
   "cell_type": "code",
   "execution_count": 25,
   "metadata": {},
   "outputs": [],
   "source": [
    "tokenizer.save(p.TOKENIZER_TRAINED_ON_DATASET_PATH)"
   ]
  },
  {
   "cell_type": "code",
   "execution_count": 26,
   "metadata": {},
   "outputs": [],
   "source": [
    "tokenizer = Tokenizer.from_file(p.TOKENIZER_TRAINED_ON_DATASET_PATH)"
   ]
  },
  {
   "cell_type": "code",
   "execution_count": 27,
   "metadata": {},
   "outputs": [
    {
     "data": {
      "text/plain": [
       "[[1422, 484], [83, 1939]]"
      ]
     },
     "execution_count": 27,
     "metadata": {},
     "output_type": "execute_result"
    }
   ],
   "source": [
    "[e.ids for e in tokenizer.encode_batch([\"marin\", \"nino\"])]"
   ]
  },
  {
   "cell_type": "code",
   "execution_count": null,
   "metadata": {},
   "outputs": [],
   "source": []
  },
  {
   "cell_type": "code",
   "execution_count": 28,
   "metadata": {},
   "outputs": [],
   "source": [
    "dataset[\"source_string\"] = dataset.input.apply(lambda input: t.START_TOKEN + \" \"+ f\" {t.END_TOKEN} {t.START_TOKEN} \".join([r['body'] for r in input]) + \" \" + t.END_TOKEN)"
   ]
  },
  {
   "cell_type": "code",
   "execution_count": 29,
   "metadata": {},
   "outputs": [],
   "source": [
    "dataset.target_string = t.START_TOKEN + \" \" + dataset.target_string + \" \" + t.END_TOKEN"
   ]
  },
  {
   "cell_type": "code",
   "execution_count": 30,
   "metadata": {},
   "outputs": [
    {
     "data": {
      "text/plain": [
       "'[START] It\\'s an absolute shame that Griffith allowed his politics to poison his art.  \"Birth\" is an overly long, melodramatic propaganda piece that is the \"original\" hatchet-job on Blacks. The effects of this film are still being felt today.  Instead of using his gift to further real progress in this country, he chose to create a film that distorts history,  while juxtaposing powerful images of Blacks as incompetent savages (or fawning servants) with courageous virtuous whites thereby pandering to xenophobic hate mongers and misguided members of his own race.  It gets 1 vote...the minimum. [END] [START] This is a horrible racist film that is a sad chapter in American movie history. If this film didn\\'t exist some other film would have had been made over 100 minutes and had the kind of editing innovations this one had. The subject matter cancels out any admiration for the firsts in this movie. What is worst than this movie are some of the messages on this board defending the film. One person writes how true the film is!! It is stunningly inaccurate. Another person wrote that this film would be in the top 250 if it wasn\\'t for all the \"blacks on IMDb\"!! I weep for my country.....so much ignorance. I am white and I give it a one......complete and utter garbage. [END] [START] Birth of a Nation is still controversial today. Its themes strike a chord with our sensibilities because it deals with an ugly part of our national identity. The Birth of a Nation not only caused the revival of the Ku Klux Klan but set a high cinematic standard that had long reaching effects on world cinema. Indeed it was a year later when Griffith responded to critics who railed against him for the cinematic adaptation of the now all but forgotten novel turned play, The Clansman. But let\\'s look past the negrophobia for a minute if only to look at the earliest works of Hitchcock, Lang, Pabst, Murnau, and Eisenstein. That alone should suggest that BoaN is a worthy film, but suggesting this would overlook the superlative performance of Lillian Gish, prodigal camerawork and storytelling skills of Griffith, and of course the small matter of this films undaunted importance and popularity in the first half of the twentieth century. [END]'"
      ]
     },
     "execution_count": 30,
     "metadata": {},
     "output_type": "execute_result"
    }
   ],
   "source": [
    "dataset.source_string[0]"
   ]
  },
  {
   "cell_type": "code",
   "execution_count": 31,
   "metadata": {},
   "outputs": [
    {
     "data": {
      "text/plain": [
       "'[START] Considering when The Birth Of A Nation was made and considering what came before, this is one of if not the greatest film ever made. It may not conform to the modern view of race relations. Never the less, it is an unforgitable viewing experience. A must see for any serious film historian. [END]'"
      ]
     },
     "execution_count": 31,
     "metadata": {},
     "output_type": "execute_result"
    }
   ],
   "source": [
    "dataset.target_string[0]"
   ]
  },
  {
   "cell_type": "code",
   "execution_count": 32,
   "metadata": {},
   "outputs": [
    {
     "data": {
      "text/html": [
       "<div>\n",
       "<style scoped>\n",
       "    .dataframe tbody tr th:only-of-type {\n",
       "        vertical-align: middle;\n",
       "    }\n",
       "\n",
       "    .dataframe tbody tr th {\n",
       "        vertical-align: top;\n",
       "    }\n",
       "\n",
       "    .dataframe thead th {\n",
       "        text-align: right;\n",
       "    }\n",
       "</style>\n",
       "<table border=\"1\" class=\"dataframe\">\n",
       "  <thead>\n",
       "    <tr style=\"text-align: right;\">\n",
       "      <th></th>\n",
       "      <th>id</th>\n",
       "      <th>input</th>\n",
       "      <th>output</th>\n",
       "      <th>helpfulness_difference</th>\n",
       "      <th>rating_difference</th>\n",
       "      <th>length_difference</th>\n",
       "      <th>target_string</th>\n",
       "      <th>source_string</th>\n",
       "    </tr>\n",
       "  </thead>\n",
       "  <tbody>\n",
       "    <tr>\n",
       "      <th>0</th>\n",
       "      <td>tt0004972</td>\n",
       "      <td>[{'title': 'Hateful, mean-spirited propaganda....</td>\n",
       "      <td>{'title': 'One of the all time greats', 'ratin...</td>\n",
       "      <td>-0.038816</td>\n",
       "      <td>6.0</td>\n",
       "      <td>-440.666667</td>\n",
       "      <td>[START] Considering when The Birth Of A Nation...</td>\n",
       "      <td>[START] It's an absolute shame that Griffith a...</td>\n",
       "    </tr>\n",
       "    <tr>\n",
       "      <th>1</th>\n",
       "      <td>tt0004972</td>\n",
       "      <td>[{'title': 'Horrible film', 'rating': 1, 'body...</td>\n",
       "      <td>{'title': 'Hateful, mean-spirited propaganda.....</td>\n",
       "      <td>0.013036</td>\n",
       "      <td>-6.0</td>\n",
       "      <td>-43.333333</td>\n",
       "      <td>[START] It's an absolute shame that Griffith a...</td>\n",
       "      <td>[START] This is a horrible racist film that is...</td>\n",
       "    </tr>\n",
       "    <tr>\n",
       "      <th>2</th>\n",
       "      <td>tt0004972</td>\n",
       "      <td>[{'title': 'One of the all time greats', 'rati...</td>\n",
       "      <td>{'title': 'Horrible film', 'rating': 1, 'body'...</td>\n",
       "      <td>-0.059380</td>\n",
       "      <td>-6.0</td>\n",
       "      <td>59.333333</td>\n",
       "      <td>[START] This is a horrible racist film that is...</td>\n",
       "      <td>[START] Considering when The Birth Of A Nation...</td>\n",
       "    </tr>\n",
       "    <tr>\n",
       "      <th>3</th>\n",
       "      <td>tt0004972</td>\n",
       "      <td>[{'title': 'Hateful, mean-spirited propaganda....</td>\n",
       "      <td>{'title': 'A major watermark for all that was ...</td>\n",
       "      <td>0.085160</td>\n",
       "      <td>6.0</td>\n",
       "      <td>424.666667</td>\n",
       "      <td>[START] Birth of a Nation is still controversi...</td>\n",
       "      <td>[START] It's an absolute shame that Griffith a...</td>\n",
       "    </tr>\n",
       "    <tr>\n",
       "      <th>4</th>\n",
       "      <td>tt0004972</td>\n",
       "      <td>[{'title': 'Skillfully Executed Hate Cinema', ...</td>\n",
       "      <td>{'title': 'A Great Classic', 'rating': 10, 'bo...</td>\n",
       "      <td>-0.006785</td>\n",
       "      <td>6.0</td>\n",
       "      <td>-455.666667</td>\n",
       "      <td>[START] Despite the criticism that this film h...</td>\n",
       "      <td>[START] This racist film doesn't warrant in-de...</td>\n",
       "    </tr>\n",
       "  </tbody>\n",
       "</table>\n",
       "</div>"
      ],
      "text/plain": [
       "          id                                              input  \\\n",
       "0  tt0004972  [{'title': 'Hateful, mean-spirited propaganda....   \n",
       "1  tt0004972  [{'title': 'Horrible film', 'rating': 1, 'body...   \n",
       "2  tt0004972  [{'title': 'One of the all time greats', 'rati...   \n",
       "3  tt0004972  [{'title': 'Hateful, mean-spirited propaganda....   \n",
       "4  tt0004972  [{'title': 'Skillfully Executed Hate Cinema', ...   \n",
       "\n",
       "                                              output  helpfulness_difference  \\\n",
       "0  {'title': 'One of the all time greats', 'ratin...               -0.038816   \n",
       "1  {'title': 'Hateful, mean-spirited propaganda.....                0.013036   \n",
       "2  {'title': 'Horrible film', 'rating': 1, 'body'...               -0.059380   \n",
       "3  {'title': 'A major watermark for all that was ...                0.085160   \n",
       "4  {'title': 'A Great Classic', 'rating': 10, 'bo...               -0.006785   \n",
       "\n",
       "   rating_difference  length_difference  \\\n",
       "0                6.0        -440.666667   \n",
       "1               -6.0         -43.333333   \n",
       "2               -6.0          59.333333   \n",
       "3                6.0         424.666667   \n",
       "4                6.0        -455.666667   \n",
       "\n",
       "                                       target_string  \\\n",
       "0  [START] Considering when The Birth Of A Nation...   \n",
       "1  [START] It's an absolute shame that Griffith a...   \n",
       "2  [START] This is a horrible racist film that is...   \n",
       "3  [START] Birth of a Nation is still controversi...   \n",
       "4  [START] Despite the criticism that this film h...   \n",
       "\n",
       "                                       source_string  \n",
       "0  [START] It's an absolute shame that Griffith a...  \n",
       "1  [START] This is a horrible racist film that is...  \n",
       "2  [START] Considering when The Birth Of A Nation...  \n",
       "3  [START] It's an absolute shame that Griffith a...  \n",
       "4  [START] This racist film doesn't warrant in-de...  "
      ]
     },
     "execution_count": 32,
     "metadata": {},
     "output_type": "execute_result"
    }
   ],
   "source": [
    "dataset[:5]"
   ]
  },
  {
   "cell_type": "code",
   "execution_count": null,
   "metadata": {},
   "outputs": [],
   "source": []
  },
  {
   "cell_type": "markdown",
   "metadata": {},
   "source": [
    "This is ridicilously bad written method for which i don't know how to unallocate taken ram memory and it takes like 8 GB of ram because the memory is prob allocated in rust...."
   ]
  },
  {
   "cell_type": "markdown",
   "metadata": {},
   "source": [
    "dataset[\"input_numericalized\"] = [e.ids for e in tokenizer.encode_batch(dataset.input_combined.values)]  \n",
    "dataset[\"target_numericalized\"] = [e.ids for e in tokenizer.encode_batch(dataset.target_string.values)]  \n",
    "gc.collect()"
   ]
  },
  {
   "cell_type": "markdown",
   "metadata": {},
   "source": [
    "What if i take .tokens too, i would kinda like to see the tokens too, i am not a fan of .decode method not printing special tokens..., it should have a flag to add to decoding method..., i could add wrappers to this library but everything is written in rust..."
   ]
  },
  {
   "cell_type": "markdown",
   "metadata": {},
   "source": [
    "ova celija bi se dala puno bolje napisat, trebo sam numericalized dodat u dict i kasnije raditi podijelu na source i target jer ovako isti tekst enkodiram 4 puta"
   ]
  },
  {
   "cell_type": "code",
   "execution_count": 33,
   "metadata": {},
   "outputs": [
    {
     "data": {
      "text/plain": [
       "0"
      ]
     },
     "execution_count": 33,
     "metadata": {},
     "output_type": "execute_result"
    }
   ],
   "source": [
    "dataset[\"source_numericalized\"] = [tokenizer.encode(e).ids for e in dataset.source_string]\n",
    "dataset[\"target_numericalized\"] = [tokenizer.encode(e).ids for e in dataset.target_string]\n",
    "gc.collect()"
   ]
  },
  {
   "cell_type": "code",
   "execution_count": 34,
   "metadata": {},
   "outputs": [
    {
     "name": "stderr",
     "output_type": "stream",
     "text": [
      "/home/marin/anaconda3/lib/python3.8/site-packages/seaborn/_decorators.py:36: FutureWarning: Pass the following variable as a keyword arg: x. From version 0.12, the only valid positional argument will be `data`, and passing other arguments without an explicit keyword will result in an error or misinterpretation.\n",
      "  warnings.warn(\n"
     ]
    },
    {
     "data": {
      "text/plain": [
       "<matplotlib.axes._subplots.AxesSubplot at 0x7fd3ca4fcf40>"
      ]
     },
     "execution_count": 34,
     "metadata": {},
     "output_type": "execute_result"
    },
    {
     "data": {
      "image/png": "[encoded data removed]",
      "text/plain": [
       "<Figure size 720x432 with 1 Axes>"
      ]
     },
     "metadata": {},
     "output_type": "display_data"
    }
   ],
   "source": [
    "sns.violinplot(dataset.source_numericalized.apply(len))"
   ]
  },
  {
   "cell_type": "code",
   "execution_count": 35,
   "metadata": {},
   "outputs": [
    {
     "name": "stderr",
     "output_type": "stream",
     "text": [
      "/home/marin/anaconda3/lib/python3.8/site-packages/seaborn/_decorators.py:36: FutureWarning: Pass the following variable as a keyword arg: x. From version 0.12, the only valid positional argument will be `data`, and passing other arguments without an explicit keyword will result in an error or misinterpretation.\n",
      "  warnings.warn(\n"
     ]
    },
    {
     "data": {
      "text/plain": [
       "<matplotlib.axes._subplots.AxesSubplot at 0x7fd334501af0>"
      ]
     },
     "execution_count": 35,
     "metadata": {},
     "output_type": "execute_result"
    },
    {
     "data": {
      "image/png": "[encoded data removed]",
      "text/plain": [
       "<Figure size 720x432 with 1 Axes>"
      ]
     },
     "metadata": {},
     "output_type": "display_data"
    }
   ],
   "source": [
    "sns.violinplot(dataset.target_numericalized.apply(len))"
   ]
  },
  {
   "cell_type": "code",
   "execution_count": 36,
   "metadata": {},
   "outputs": [
    {
     "data": {
      "text/plain": [
       "143601"
      ]
     },
     "execution_count": 36,
     "metadata": {},
     "output_type": "execute_result"
    }
   ],
   "source": [
    "len(dataset)"
   ]
  },
  {
   "cell_type": "code",
   "execution_count": 37,
   "metadata": {},
   "outputs": [],
   "source": [
    "dataset = dataset[dataset.source_numericalized.apply(len) <= hp.SOURCE_MAX_NUMBER_OF_TOKENS]"
   ]
  },
  {
   "cell_type": "code",
   "execution_count": 38,
   "metadata": {},
   "outputs": [
    {
     "data": {
      "text/plain": [
       "114944"
      ]
     },
     "execution_count": 38,
     "metadata": {},
     "output_type": "execute_result"
    }
   ],
   "source": [
    "len(dataset)"
   ]
  },
  {
   "cell_type": "markdown",
   "metadata": {},
   "source": [
    "tu treba ic +1"
   ]
  },
  {
   "cell_type": "code",
   "execution_count": 39,
   "metadata": {},
   "outputs": [],
   "source": [
    "dataset = dataset[dataset.target_numericalized.apply(len) <= hp.TARGET_MAX_NUMBER_OF_TOKENS]"
   ]
  },
  {
   "cell_type": "code",
   "execution_count": 40,
   "metadata": {},
   "outputs": [
    {
     "data": {
      "text/plain": [
       "114445"
      ]
     },
     "execution_count": 40,
     "metadata": {},
     "output_type": "execute_result"
    }
   ],
   "source": [
    "len(dataset)"
   ]
  },
  {
   "cell_type": "code",
   "execution_count": 42,
   "metadata": {},
   "outputs": [
    {
     "name": "stderr",
     "output_type": "stream",
     "text": [
      "/home/marin/anaconda3/lib/python3.8/site-packages/seaborn/_decorators.py:36: FutureWarning: Pass the following variable as a keyword arg: x. From version 0.12, the only valid positional argument will be `data`, and passing other arguments without an explicit keyword will result in an error or misinterpretation.\n",
      "  warnings.warn(\n"
     ]
    },
    {
     "data": {
      "text/plain": [
       "<matplotlib.axes._subplots.AxesSubplot at 0x7fd3317582e0>"
      ]
     },
     "execution_count": 42,
     "metadata": {},
     "output_type": "execute_result"
    },
    {
     "data": {
      "image/png": "[encoded data removed]",
      "text/plain": [
       "<Figure size 720x432 with 1 Axes>"
      ]
     },
     "metadata": {},
     "output_type": "display_data"
    }
   ],
   "source": [
    "sns.violinplot(dataset.source_numericalized.apply(len))"
   ]
  },
  {
   "cell_type": "code",
   "execution_count": 43,
   "metadata": {},
   "outputs": [
    {
     "name": "stderr",
     "output_type": "stream",
     "text": [
      "/home/marin/anaconda3/lib/python3.8/site-packages/seaborn/_decorators.py:36: FutureWarning: Pass the following variable as a keyword arg: x. From version 0.12, the only valid positional argument will be `data`, and passing other arguments without an explicit keyword will result in an error or misinterpretation.\n",
      "  warnings.warn(\n"
     ]
    },
    {
     "data": {
      "text/plain": [
       "<matplotlib.axes._subplots.AxesSubplot at 0x7fd33173da30>"
      ]
     },
     "execution_count": 43,
     "metadata": {},
     "output_type": "execute_result"
    },
    {
     "data": {
      "image/png": "[encoded data removed]",
      "text/plain": [
       "<Figure size 720x432 with 1 Axes>"
      ]
     },
     "metadata": {},
     "output_type": "display_data"
    }
   ],
   "source": [
    "sns.violinplot(dataset.target_numericalized.apply(len))"
   ]
  },
  {
   "cell_type": "code",
   "execution_count": 44,
   "metadata": {},
   "outputs": [],
   "source": [
    "dataset[\"source_numericalized_padded\"] = dataset.source_numericalized + (hp.SOURCE_MAX_NUMBER_OF_TOKENS - dataset.source_numericalized.apply(len)).apply(lambda p: p*[tokenizer.token_to_id(t.PADDING_TOKEN)])"
   ]
  },
  {
   "cell_type": "code",
   "execution_count": 55,
   "metadata": {},
   "outputs": [],
   "source": [
    "dataset[\"target_numericalized_input\"] = dataset.target_numericalized.apply(lambda x: x[:-1])\n",
    "dataset[\"target_numericalized_output\"] = dataset.target_numericalized.apply(lambda x: x[1:])"
   ]
  },
  {
   "cell_type": "code",
   "execution_count": 95,
   "metadata": {},
   "outputs": [],
   "source": [
    "dataset[\"target_numericalized_input_padded\"] = dataset.target_numericalized_input + (hp.TARGET_MAX_NUMBER_OF_TOKENS - dataset.target_numericalized_input.apply(len)).apply(lambda p: p*[tokenizer.token_to_id(t.PADDING_TOKEN)])\n",
    "dataset[\"target_numericalized_output_padded\"] = dataset.target_numericalized_output + (hp.TARGET_MAX_NUMBER_OF_TOKENS - dataset.target_numericalized_output.apply(len)).apply(lambda p: p*[tokenizer.token_to_id(t.PADDING_TOKEN)])"
   ]
  },
  {
   "cell_type": "code",
   "execution_count": 67,
   "metadata": {},
   "outputs": [
    {
     "name": "stderr",
     "output_type": "stream",
     "text": [
      "/home/marin/anaconda3/lib/python3.8/site-packages/seaborn/_decorators.py:36: FutureWarning: Pass the following variable as a keyword arg: x. From version 0.12, the only valid positional argument will be `data`, and passing other arguments without an explicit keyword will result in an error or misinterpretation.\n",
      "  warnings.warn(\n"
     ]
    },
    {
     "data": {
      "text/plain": [
       "<matplotlib.axes._subplots.AxesSubplot at 0x7fd3315520d0>"
      ]
     },
     "execution_count": 67,
     "metadata": {},
     "output_type": "execute_result"
    },
    {
     "data": {
      "image/png": "[encoded data removed]",
      "text/plain": [
       "<Figure size 720x432 with 1 Axes>"
      ]
     },
     "metadata": {},
     "output_type": "display_data"
    }
   ],
   "source": [
    "sns.violinplot(dataset.source_numericalized_padded.apply(len))"
   ]
  },
  {
   "cell_type": "code",
   "execution_count": 96,
   "metadata": {},
   "outputs": [
    {
     "name": "stderr",
     "output_type": "stream",
     "text": [
      "/home/marin/anaconda3/lib/python3.8/site-packages/seaborn/_decorators.py:36: FutureWarning: Pass the following variable as a keyword arg: x. From version 0.12, the only valid positional argument will be `data`, and passing other arguments without an explicit keyword will result in an error or misinterpretation.\n",
      "  warnings.warn(\n"
     ]
    },
    {
     "data": {
      "text/plain": [
       "<matplotlib.axes._subplots.AxesSubplot at 0x7fd317a893a0>"
      ]
     },
     "execution_count": 96,
     "metadata": {},
     "output_type": "execute_result"
    },
    {
     "data": {
      "image/png": "[encoded data removed]",
      "text/plain": [
       "<Figure size 720x432 with 1 Axes>"
      ]
     },
     "metadata": {},
     "output_type": "display_data"
    }
   ],
   "source": [
    "sns.violinplot(dataset.target_numericalized_input_padded.apply(len))"
   ]
  },
  {
   "cell_type": "code",
   "execution_count": 97,
   "metadata": {},
   "outputs": [
    {
     "name": "stderr",
     "output_type": "stream",
     "text": [
      "/home/marin/anaconda3/lib/python3.8/site-packages/seaborn/_decorators.py:36: FutureWarning: Pass the following variable as a keyword arg: x. From version 0.12, the only valid positional argument will be `data`, and passing other arguments without an explicit keyword will result in an error or misinterpretation.\n",
      "  warnings.warn(\n"
     ]
    },
    {
     "data": {
      "text/plain": [
       "<matplotlib.axes._subplots.AxesSubplot at 0x7fd319540ee0>"
      ]
     },
     "execution_count": 97,
     "metadata": {},
     "output_type": "execute_result"
    },
    {
     "data": {
      "image/png": "[encoded data removed]",
      "text/plain": [
       "<Figure size 720x432 with 1 Axes>"
      ]
     },
     "metadata": {},
     "output_type": "display_data"
    }
   ],
   "source": [
    "sns.violinplot(dataset.target_numericalized_output_padded.apply(len))"
   ]
  },
  {
   "cell_type": "code",
   "execution_count": null,
   "metadata": {},
   "outputs": [],
   "source": []
  },
  {
   "cell_type": "code",
   "execution_count": 76,
   "metadata": {},
   "outputs": [
    {
     "data": {
      "text/plain": [
       "'It \\' s an absolute shame that Griffith allowed his politics to poison his art . \" Birth \" is an overly long , melodramatic propaganda piece that is the \" original \" h atchet - job on Black s . The effects of this film are still being felt today . Instead of using his gift to further real progress in this country , he chose to create a film that distort s history , while juxta posing powerful images of Black s as incompetent sav ages ( or fa w ning serv ants ) with courageous virt uous whites thereby pandering to xen op hobic hate mong ers and misguided members of his own race . It gets 1 vote ... the minimum . This is a horrible racist film that is a sad chapter in American movie history . If this film didn \\' t exist some other film would have had been made over 100 minutes and had the kind of editing innov ations this one had . The subject matter canc els out any admiration for the first s in this movie . What is worst than this movie are some of the messages on this board defending the film . One person writes how true the film is !! It is stunningly inaccurate . Another person wrote that this film would be in the top 250 if it wasn \\' t for all the \" blacks on IMDb \" !! I weep for my country ..... so much ignorance . I am white and I give it a one ...... complete and utter garbage . Birth of a Nation is still controversial today . Its themes strike a chord with our sensibilities because it deals with an ugly part of our national identity . The Birth of a Nation not only caused the revival of the Ku K lux K lan but set a high cinematic standard that had long reaching effects on world cinema . Indeed it was a year later when Griffith respond ed to critics who ra iled against him for the cinematic adaptation of the now all but forgotten novel turned play , The Cl ans man . But let \\' s look past the ne gr op hobia for a minute if only to look at the ear liest works of Hitchcock , Lang , P ab st , Mur n au , and Eis en stein . That alone should suggest that Bo a N is a worthy film , but suggesting this would overlook the superl ative performance of L illian G ish , pro dig al camerawork and storytelling skills of Griffith , and of course the small matter of this films und aunt ed importance and popularity in the first half of the twent ie th century .'"
      ]
     },
     "execution_count": 76,
     "metadata": {},
     "output_type": "execute_result"
    }
   ],
   "source": [
    "tokenizer.decode(dataset.source_numericalized_padded[0])"
   ]
  },
  {
   "cell_type": "code",
   "execution_count": 77,
   "metadata": {},
   "outputs": [
    {
     "data": {
      "text/plain": [
       "'Hitchcock , Lang , P ab st , Mur n au , and Eis en stein . That alone should suggest that Bo a N is a'"
      ]
     },
     "execution_count": 77,
     "metadata": {},
     "output_type": "execute_result"
    }
   ],
   "source": [
    "tokenizer.decode(dataset.source_numericalized_padded[0])[1899:2000]"
   ]
  },
  {
   "cell_type": "code",
   "execution_count": 78,
   "metadata": {},
   "outputs": [
    {
     "data": {
      "text/html": [
       "<div>\n",
       "<style scoped>\n",
       "    .dataframe tbody tr th:only-of-type {\n",
       "        vertical-align: middle;\n",
       "    }\n",
       "\n",
       "    .dataframe tbody tr th {\n",
       "        vertical-align: top;\n",
       "    }\n",
       "\n",
       "    .dataframe thead th {\n",
       "        text-align: right;\n",
       "    }\n",
       "</style>\n",
       "<table border=\"1\" class=\"dataframe\">\n",
       "  <thead>\n",
       "    <tr style=\"text-align: right;\">\n",
       "      <th></th>\n",
       "      <th>id</th>\n",
       "      <th>input</th>\n",
       "      <th>output</th>\n",
       "      <th>helpfulness_difference</th>\n",
       "      <th>rating_difference</th>\n",
       "      <th>length_difference</th>\n",
       "      <th>target_string</th>\n",
       "      <th>source_string</th>\n",
       "      <th>source_numericalized</th>\n",
       "      <th>target_numericalized</th>\n",
       "      <th>source_numericalized_padded</th>\n",
       "      <th>target_numericalized_input</th>\n",
       "      <th>target_numericalized_output</th>\n",
       "      <th>target_numericalized_input_padded</th>\n",
       "      <th>target_numericalized_output_padded</th>\n",
       "    </tr>\n",
       "  </thead>\n",
       "  <tbody>\n",
       "    <tr>\n",
       "      <th>0</th>\n",
       "      <td>tt0004972</td>\n",
       "      <td>[{'title': 'Hateful, mean-spirited propaganda....</td>\n",
       "      <td>{'title': 'One of the all time greats', 'ratin...</td>\n",
       "      <td>-0.038816</td>\n",
       "      <td>6.0</td>\n",
       "      <td>-440.666667</td>\n",
       "      <td>[START] Considering when The Birth Of A Nation...</td>\n",
       "      <td>[START] It's an absolute shame that Griffith a...</td>\n",
       "      <td>[1, 591, 12, 88, 486, 1233, 2102, 529, 15077, ...</td>\n",
       "      <td>[1, 8304, 796, 544, 19301, 2279, 38, 11923, 53...</td>\n",
       "      <td>[1, 591, 12, 88, 486, 1233, 2102, 529, 15077, ...</td>\n",
       "      <td>[1, 8304, 796, 544, 19301, 2279, 38, 11923, 53...</td>\n",
       "      <td>[8304, 796, 544, 19301, 2279, 38, 11923, 530, ...</td>\n",
       "      <td>[1, 8304, 796, 544, 19301, 2279, 38, 11923, 53...</td>\n",
       "      <td>[8304, 796, 544, 19301, 2279, 38, 11923, 530, ...</td>\n",
       "    </tr>\n",
       "    <tr>\n",
       "      <th>1</th>\n",
       "      <td>tt0004972</td>\n",
       "      <td>[{'title': 'Horrible film', 'rating': 1, 'body...</td>\n",
       "      <td>{'title': 'Hateful, mean-spirited propaganda.....</td>\n",
       "      <td>0.013036</td>\n",
       "      <td>-6.0</td>\n",
       "      <td>-43.333333</td>\n",
       "      <td>[START] It's an absolute shame that Griffith a...</td>\n",
       "      <td>[START] This is a horrible racist film that is...</td>\n",
       "      <td>[1, 620, 488, 70, 1602, 4386, 563, 529, 488, 7...</td>\n",
       "      <td>[1, 591, 12, 88, 486, 1233, 2102, 529, 15077, ...</td>\n",
       "      <td>[1, 620, 488, 70, 1602, 4386, 563, 529, 488, 7...</td>\n",
       "      <td>[1, 591, 12, 88, 486, 1233, 2102, 529, 15077, ...</td>\n",
       "      <td>[591, 12, 88, 486, 1233, 2102, 529, 15077, 400...</td>\n",
       "      <td>[1, 591, 12, 88, 486, 1233, 2102, 529, 15077, ...</td>\n",
       "      <td>[591, 12, 88, 486, 1233, 2102, 529, 15077, 400...</td>\n",
       "    </tr>\n",
       "  </tbody>\n",
       "</table>\n",
       "</div>"
      ],
      "text/plain": [
       "          id                                              input  \\\n",
       "0  tt0004972  [{'title': 'Hateful, mean-spirited propaganda....   \n",
       "1  tt0004972  [{'title': 'Horrible film', 'rating': 1, 'body...   \n",
       "\n",
       "                                              output  helpfulness_difference  \\\n",
       "0  {'title': 'One of the all time greats', 'ratin...               -0.038816   \n",
       "1  {'title': 'Hateful, mean-spirited propaganda.....                0.013036   \n",
       "\n",
       "   rating_difference  length_difference  \\\n",
       "0                6.0        -440.666667   \n",
       "1               -6.0         -43.333333   \n",
       "\n",
       "                                       target_string  \\\n",
       "0  [START] Considering when The Birth Of A Nation...   \n",
       "1  [START] It's an absolute shame that Griffith a...   \n",
       "\n",
       "                                       source_string  \\\n",
       "0  [START] It's an absolute shame that Griffith a...   \n",
       "1  [START] This is a horrible racist film that is...   \n",
       "\n",
       "                                source_numericalized  \\\n",
       "0  [1, 591, 12, 88, 486, 1233, 2102, 529, 15077, ...   \n",
       "1  [1, 620, 488, 70, 1602, 4386, 563, 529, 488, 7...   \n",
       "\n",
       "                                target_numericalized  \\\n",
       "0  [1, 8304, 796, 544, 19301, 2279, 38, 11923, 53...   \n",
       "1  [1, 591, 12, 88, 486, 1233, 2102, 529, 15077, ...   \n",
       "\n",
       "                         source_numericalized_padded  \\\n",
       "0  [1, 591, 12, 88, 486, 1233, 2102, 529, 15077, ...   \n",
       "1  [1, 620, 488, 70, 1602, 4386, 563, 529, 488, 7...   \n",
       "\n",
       "                          target_numericalized_input  \\\n",
       "0  [1, 8304, 796, 544, 19301, 2279, 38, 11923, 53...   \n",
       "1  [1, 591, 12, 88, 486, 1233, 2102, 529, 15077, ...   \n",
       "\n",
       "                         target_numericalized_output  \\\n",
       "0  [8304, 796, 544, 19301, 2279, 38, 11923, 530, ...   \n",
       "1  [591, 12, 88, 486, 1233, 2102, 529, 15077, 400...   \n",
       "\n",
       "                   target_numericalized_input_padded  \\\n",
       "0  [1, 8304, 796, 544, 19301, 2279, 38, 11923, 53...   \n",
       "1  [1, 591, 12, 88, 486, 1233, 2102, 529, 15077, ...   \n",
       "\n",
       "                  target_numericalized_output_padded  \n",
       "0  [8304, 796, 544, 19301, 2279, 38, 11923, 530, ...  \n",
       "1  [591, 12, 88, 486, 1233, 2102, 529, 15077, 400...  "
      ]
     },
     "execution_count": 78,
     "metadata": {},
     "output_type": "execute_result"
    }
   ],
   "source": [
    "dataset[:2]"
   ]
  },
  {
   "cell_type": "code",
   "execution_count": 98,
   "metadata": {},
   "outputs": [],
   "source": [
    "dataset.source_numericalized_padded = dataset.source_numericalized_padded.apply(np.array)\n",
    "dataset.target_numericalized_input_padded = dataset.target_numericalized_input_padded.apply(np.array)"
   ]
  },
  {
   "cell_type": "code",
   "execution_count": null,
   "metadata": {},
   "outputs": [],
   "source": []
  },
  {
   "cell_type": "code",
   "execution_count": 80,
   "metadata": {},
   "outputs": [],
   "source": [
    "dataset[\"source_start_token_indexes\"] = dataset.source_numericalized_padded.apply(lambda x: np.where(x == tokenizer.token_to_id(t.START_TOKEN))[0])"
   ]
  },
  {
   "cell_type": "code",
   "execution_count": 81,
   "metadata": {},
   "outputs": [],
   "source": [
    "dataset[\"source_end_token_indexes\"] = dataset.source_numericalized_padded.apply(lambda x: np.where(x == tokenizer.token_to_id(t.END_TOKEN))[0])"
   ]
  },
  {
   "cell_type": "code",
   "execution_count": 82,
   "metadata": {},
   "outputs": [],
   "source": [
    "dataset[\"source_padding_token_first_index\"] = dataset.source_numericalized_padded.apply(lambda v: np.where(v==tokenizer.token_to_id(t.PADDING_TOKEN))[0][0] if tokenizer.token_to_id(t.PADDING_TOKEN) in v else hp.SOURCE_MAX_NUMBER_OF_TOKENS) "
   ]
  },
  {
   "cell_type": "code",
   "execution_count": 99,
   "metadata": {},
   "outputs": [],
   "source": [
    "dataset[\"target_input_padding_token_first_index\"] = dataset.target_numericalized_input_padded.apply(lambda v: np.where(v==tokenizer.token_to_id(t.PADDING_TOKEN))[0][0] if tokenizer.token_to_id(t.PADDING_TOKEN) in v else hp.TARGET_MAX_NUMBER_OF_TOKENS) "
   ]
  },
  {
   "cell_type": "code",
   "execution_count": 102,
   "metadata": {},
   "outputs": [
    {
     "data": {
      "text/html": [
       "<div>\n",
       "<style scoped>\n",
       "    .dataframe tbody tr th:only-of-type {\n",
       "        vertical-align: middle;\n",
       "    }\n",
       "\n",
       "    .dataframe tbody tr th {\n",
       "        vertical-align: top;\n",
       "    }\n",
       "\n",
       "    .dataframe thead th {\n",
       "        text-align: right;\n",
       "    }\n",
       "</style>\n",
       "<table border=\"1\" class=\"dataframe\">\n",
       "  <thead>\n",
       "    <tr style=\"text-align: right;\">\n",
       "      <th></th>\n",
       "      <th>id</th>\n",
       "      <th>input</th>\n",
       "      <th>output</th>\n",
       "      <th>helpfulness_difference</th>\n",
       "      <th>rating_difference</th>\n",
       "      <th>length_difference</th>\n",
       "      <th>target_string</th>\n",
       "      <th>source_string</th>\n",
       "      <th>source_numericalized</th>\n",
       "      <th>target_numericalized</th>\n",
       "      <th>source_numericalized_padded</th>\n",
       "      <th>target_numericalized_input</th>\n",
       "      <th>target_numericalized_output</th>\n",
       "      <th>target_numericalized_input_padded</th>\n",
       "      <th>target_numericalized_output_padded</th>\n",
       "      <th>source_start_token_indexes</th>\n",
       "      <th>source_end_token_indexes</th>\n",
       "      <th>source_padding_token_first_index</th>\n",
       "      <th>target_input_padding_token_first_index</th>\n",
       "    </tr>\n",
       "  </thead>\n",
       "  <tbody>\n",
       "    <tr>\n",
       "      <th>0</th>\n",
       "      <td>tt0004972</td>\n",
       "      <td>[{'title': 'Hateful, mean-spirited propaganda....</td>\n",
       "      <td>{'title': 'One of the all time greats', 'ratin...</td>\n",
       "      <td>-0.038816</td>\n",
       "      <td>6.0</td>\n",
       "      <td>-440.666667</td>\n",
       "      <td>[START] Considering when The Birth Of A Nation...</td>\n",
       "      <td>[START] It's an absolute shame that Griffith a...</td>\n",
       "      <td>[1, 591, 12, 88, 486, 1233, 2102, 529, 15077, ...</td>\n",
       "      <td>[1, 8304, 796, 544, 19301, 2279, 38, 11923, 53...</td>\n",
       "      <td>[1, 591, 12, 88, 486, 1233, 2102, 529, 15077, ...</td>\n",
       "      <td>[1, 8304, 796, 544, 19301, 2279, 38, 11923, 53...</td>\n",
       "      <td>[8304, 796, 544, 19301, 2279, 38, 11923, 530, ...</td>\n",
       "      <td>[1, 8304, 796, 544, 19301, 2279, 38, 11923, 53...</td>\n",
       "      <td>[8304, 796, 544, 19301, 2279, 38, 11923, 530, ...</td>\n",
       "      <td>[0, 128, 275]</td>\n",
       "      <td>[127, 274, 478]</td>\n",
       "      <td>479</td>\n",
       "      <td>65</td>\n",
       "    </tr>\n",
       "    <tr>\n",
       "      <th>1</th>\n",
       "      <td>tt0004972</td>\n",
       "      <td>[{'title': 'Horrible film', 'rating': 1, 'body...</td>\n",
       "      <td>{'title': 'Hateful, mean-spirited propaganda.....</td>\n",
       "      <td>0.013036</td>\n",
       "      <td>-6.0</td>\n",
       "      <td>-43.333333</td>\n",
       "      <td>[START] It's an absolute shame that Griffith a...</td>\n",
       "      <td>[START] This is a horrible racist film that is...</td>\n",
       "      <td>[1, 620, 488, 70, 1602, 4386, 563, 529, 488, 7...</td>\n",
       "      <td>[1, 591, 12, 88, 486, 1233, 2102, 529, 15077, ...</td>\n",
       "      <td>[1, 620, 488, 70, 1602, 4386, 563, 529, 488, 7...</td>\n",
       "      <td>[1, 591, 12, 88, 486, 1233, 2102, 529, 15077, ...</td>\n",
       "      <td>[591, 12, 88, 486, 1233, 2102, 529, 15077, 400...</td>\n",
       "      <td>[1, 591, 12, 88, 486, 1233, 2102, 529, 15077, ...</td>\n",
       "      <td>[591, 12, 88, 486, 1233, 2102, 529, 15077, 400...</td>\n",
       "      <td>[0, 147, 351]</td>\n",
       "      <td>[146, 350, 416]</td>\n",
       "      <td>417</td>\n",
       "      <td>127</td>\n",
       "    </tr>\n",
       "  </tbody>\n",
       "</table>\n",
       "</div>"
      ],
      "text/plain": [
       "          id                                              input  \\\n",
       "0  tt0004972  [{'title': 'Hateful, mean-spirited propaganda....   \n",
       "1  tt0004972  [{'title': 'Horrible film', 'rating': 1, 'body...   \n",
       "\n",
       "                                              output  helpfulness_difference  \\\n",
       "0  {'title': 'One of the all time greats', 'ratin...               -0.038816   \n",
       "1  {'title': 'Hateful, mean-spirited propaganda.....                0.013036   \n",
       "\n",
       "   rating_difference  length_difference  \\\n",
       "0                6.0        -440.666667   \n",
       "1               -6.0         -43.333333   \n",
       "\n",
       "                                       target_string  \\\n",
       "0  [START] Considering when The Birth Of A Nation...   \n",
       "1  [START] It's an absolute shame that Griffith a...   \n",
       "\n",
       "                                       source_string  \\\n",
       "0  [START] It's an absolute shame that Griffith a...   \n",
       "1  [START] This is a horrible racist film that is...   \n",
       "\n",
       "                                source_numericalized  \\\n",
       "0  [1, 591, 12, 88, 486, 1233, 2102, 529, 15077, ...   \n",
       "1  [1, 620, 488, 70, 1602, 4386, 563, 529, 488, 7...   \n",
       "\n",
       "                                target_numericalized  \\\n",
       "0  [1, 8304, 796, 544, 19301, 2279, 38, 11923, 53...   \n",
       "1  [1, 591, 12, 88, 486, 1233, 2102, 529, 15077, ...   \n",
       "\n",
       "                         source_numericalized_padded  \\\n",
       "0  [1, 591, 12, 88, 486, 1233, 2102, 529, 15077, ...   \n",
       "1  [1, 620, 488, 70, 1602, 4386, 563, 529, 488, 7...   \n",
       "\n",
       "                          target_numericalized_input  \\\n",
       "0  [1, 8304, 796, 544, 19301, 2279, 38, 11923, 53...   \n",
       "1  [1, 591, 12, 88, 486, 1233, 2102, 529, 15077, ...   \n",
       "\n",
       "                         target_numericalized_output  \\\n",
       "0  [8304, 796, 544, 19301, 2279, 38, 11923, 530, ...   \n",
       "1  [591, 12, 88, 486, 1233, 2102, 529, 15077, 400...   \n",
       "\n",
       "                   target_numericalized_input_padded  \\\n",
       "0  [1, 8304, 796, 544, 19301, 2279, 38, 11923, 53...   \n",
       "1  [1, 591, 12, 88, 486, 1233, 2102, 529, 15077, ...   \n",
       "\n",
       "                  target_numericalized_output_padded  \\\n",
       "0  [8304, 796, 544, 19301, 2279, 38, 11923, 530, ...   \n",
       "1  [591, 12, 88, 486, 1233, 2102, 529, 15077, 400...   \n",
       "\n",
       "  source_start_token_indexes source_end_token_indexes  \\\n",
       "0              [0, 128, 275]          [127, 274, 478]   \n",
       "1              [0, 147, 351]          [146, 350, 416]   \n",
       "\n",
       "   source_padding_token_first_index  target_input_padding_token_first_index  \n",
       "0                               479                                      65  \n",
       "1                               417                                     127  "
      ]
     },
     "execution_count": 102,
     "metadata": {},
     "output_type": "execute_result"
    }
   ],
   "source": [
    "dataset[:2]"
   ]
  },
  {
   "cell_type": "code",
   "execution_count": null,
   "metadata": {},
   "outputs": [],
   "source": []
  },
  {
   "cell_type": "code",
   "execution_count": 69,
   "metadata": {},
   "outputs": [],
   "source": [
    "dataset[\"target_input_start_index\"] = dataset.target_numericalized.apply(lambda x: np.where(x == tokenizer.token_to_id(t.START_TOKEN))[0][0])"
   ]
  },
  {
   "cell_type": "code",
   "execution_count": 72,
   "metadata": {},
   "outputs": [],
   "source": [
    "dataset[\"target_input_end_index\"] = dataset.target_numericalized.apply(lambda x: np.where(x == tokenizer.token_to_id(t.END_TOKEN))[0][0])"
   ]
  },
  {
   "cell_type": "code",
   "execution_count": null,
   "metadata": {},
   "outputs": [],
   "source": []
  },
  {
   "cell_type": "code",
   "execution_count": 104,
   "metadata": {},
   "outputs": [],
   "source": [
    "def write_indices(indexes_of_start_tokens, indexes_of_end_tokens, values_to_fill=list(range(hp.NUMBER_OF_INPUT_REVIEWS)), dtype=int, include_start_end=True, length = hp.SOURCE_MAX_NUMBER_OF_TOKENS, pad_fill=-1):\n",
    "    array = np.zeros(length, dtype=dtype)\n",
    "    for start_index, end_index, value in zip(indexes_of_start_tokens, indexes_of_end_tokens, values_to_fill):\n",
    "        array[start_index:end_index+1] = value\n",
    "        \n",
    "        if not include_start_end:\n",
    "            array[start_index] = pad_fill\n",
    "            array[end_index] = pad_fill\n",
    "    array[(indexes_of_end_tokens[-1]+1):length] = pad_fill\n",
    "    return array  "
   ]
  },
  {
   "cell_type": "code",
   "execution_count": 108,
   "metadata": {},
   "outputs": [],
   "source": [
    "def write_indices_row(row, values_to_fill=list(range(hp.NUMBER_OF_INPUT_REVIEWS)), dtype=float, pad_fill=0, include_start_end=False):\n",
    "    return write_indices(row.source_start_token_indexes, row.source_end_token_indexes, values_to_fill=values_to_fill, dtype=dtype, include_start_end=include_start_end, length=hp.SOURCE_MAX_NUMBER_OF_TOKENS, pad_fill=pad_fill)"
   ]
  },
  {
   "cell_type": "code",
   "execution_count": 106,
   "metadata": {},
   "outputs": [
    {
     "data": {
      "text/plain": [
       "array([-1,  0,  0,  0,  0, -1, -1,  1,  1,  1,  1, -1, -1,  2,  2, -1, -1,\n",
       "       -1, -1, -1])"
      ]
     },
     "execution_count": 106,
     "metadata": {},
     "output_type": "execute_result"
    }
   ],
   "source": [
    "write_indices([0, 6, 12], [5, 11, 15], length=20, include_start_end=False)"
   ]
  },
  {
   "cell_type": "code",
   "execution_count": 107,
   "metadata": {},
   "outputs": [
    {
     "data": {
      "text/html": [
       "<div>\n",
       "<style scoped>\n",
       "    .dataframe tbody tr th:only-of-type {\n",
       "        vertical-align: middle;\n",
       "    }\n",
       "\n",
       "    .dataframe tbody tr th {\n",
       "        vertical-align: top;\n",
       "    }\n",
       "\n",
       "    .dataframe thead th {\n",
       "        text-align: right;\n",
       "    }\n",
       "</style>\n",
       "<table border=\"1\" class=\"dataframe\">\n",
       "  <thead>\n",
       "    <tr style=\"text-align: right;\">\n",
       "      <th></th>\n",
       "      <th>id</th>\n",
       "      <th>input</th>\n",
       "      <th>output</th>\n",
       "      <th>helpfulness_difference</th>\n",
       "      <th>rating_difference</th>\n",
       "      <th>length_difference</th>\n",
       "      <th>target_string</th>\n",
       "      <th>source_string</th>\n",
       "      <th>source_numericalized</th>\n",
       "      <th>target_numericalized</th>\n",
       "      <th>source_numericalized_padded</th>\n",
       "      <th>target_numericalized_input</th>\n",
       "      <th>target_numericalized_output</th>\n",
       "      <th>target_numericalized_input_padded</th>\n",
       "      <th>target_numericalized_output_padded</th>\n",
       "      <th>source_start_token_indexes</th>\n",
       "      <th>source_end_token_indexes</th>\n",
       "      <th>source_padding_token_first_index</th>\n",
       "      <th>target_input_padding_token_first_index</th>\n",
       "    </tr>\n",
       "  </thead>\n",
       "  <tbody>\n",
       "    <tr>\n",
       "      <th>0</th>\n",
       "      <td>tt0004972</td>\n",
       "      <td>[{'title': 'Hateful, mean-spirited propaganda....</td>\n",
       "      <td>{'title': 'One of the all time greats', 'ratin...</td>\n",
       "      <td>-0.038816</td>\n",
       "      <td>6.0</td>\n",
       "      <td>-440.666667</td>\n",
       "      <td>[START] Considering when The Birth Of A Nation...</td>\n",
       "      <td>[START] It's an absolute shame that Griffith a...</td>\n",
       "      <td>[1, 591, 12, 88, 486, 1233, 2102, 529, 15077, ...</td>\n",
       "      <td>[1, 8304, 796, 544, 19301, 2279, 38, 11923, 53...</td>\n",
       "      <td>[1, 591, 12, 88, 486, 1233, 2102, 529, 15077, ...</td>\n",
       "      <td>[1, 8304, 796, 544, 19301, 2279, 38, 11923, 53...</td>\n",
       "      <td>[8304, 796, 544, 19301, 2279, 38, 11923, 530, ...</td>\n",
       "      <td>[1, 8304, 796, 544, 19301, 2279, 38, 11923, 53...</td>\n",
       "      <td>[8304, 796, 544, 19301, 2279, 38, 11923, 530, ...</td>\n",
       "      <td>[0, 128, 275]</td>\n",
       "      <td>[127, 274, 478]</td>\n",
       "      <td>479</td>\n",
       "      <td>65</td>\n",
       "    </tr>\n",
       "    <tr>\n",
       "      <th>1</th>\n",
       "      <td>tt0004972</td>\n",
       "      <td>[{'title': 'Horrible film', 'rating': 1, 'body...</td>\n",
       "      <td>{'title': 'Hateful, mean-spirited propaganda.....</td>\n",
       "      <td>0.013036</td>\n",
       "      <td>-6.0</td>\n",
       "      <td>-43.333333</td>\n",
       "      <td>[START] It's an absolute shame that Griffith a...</td>\n",
       "      <td>[START] This is a horrible racist film that is...</td>\n",
       "      <td>[1, 620, 488, 70, 1602, 4386, 563, 529, 488, 7...</td>\n",
       "      <td>[1, 591, 12, 88, 486, 1233, 2102, 529, 15077, ...</td>\n",
       "      <td>[1, 620, 488, 70, 1602, 4386, 563, 529, 488, 7...</td>\n",
       "      <td>[1, 591, 12, 88, 486, 1233, 2102, 529, 15077, ...</td>\n",
       "      <td>[591, 12, 88, 486, 1233, 2102, 529, 15077, 400...</td>\n",
       "      <td>[1, 591, 12, 88, 486, 1233, 2102, 529, 15077, ...</td>\n",
       "      <td>[591, 12, 88, 486, 1233, 2102, 529, 15077, 400...</td>\n",
       "      <td>[0, 147, 351]</td>\n",
       "      <td>[146, 350, 416]</td>\n",
       "      <td>417</td>\n",
       "      <td>127</td>\n",
       "    </tr>\n",
       "  </tbody>\n",
       "</table>\n",
       "</div>"
      ],
      "text/plain": [
       "          id                                              input  \\\n",
       "0  tt0004972  [{'title': 'Hateful, mean-spirited propaganda....   \n",
       "1  tt0004972  [{'title': 'Horrible film', 'rating': 1, 'body...   \n",
       "\n",
       "                                              output  helpfulness_difference  \\\n",
       "0  {'title': 'One of the all time greats', 'ratin...               -0.038816   \n",
       "1  {'title': 'Hateful, mean-spirited propaganda.....                0.013036   \n",
       "\n",
       "   rating_difference  length_difference  \\\n",
       "0                6.0        -440.666667   \n",
       "1               -6.0         -43.333333   \n",
       "\n",
       "                                       target_string  \\\n",
       "0  [START] Considering when The Birth Of A Nation...   \n",
       "1  [START] It's an absolute shame that Griffith a...   \n",
       "\n",
       "                                       source_string  \\\n",
       "0  [START] It's an absolute shame that Griffith a...   \n",
       "1  [START] This is a horrible racist film that is...   \n",
       "\n",
       "                                source_numericalized  \\\n",
       "0  [1, 591, 12, 88, 486, 1233, 2102, 529, 15077, ...   \n",
       "1  [1, 620, 488, 70, 1602, 4386, 563, 529, 488, 7...   \n",
       "\n",
       "                                target_numericalized  \\\n",
       "0  [1, 8304, 796, 544, 19301, 2279, 38, 11923, 53...   \n",
       "1  [1, 591, 12, 88, 486, 1233, 2102, 529, 15077, ...   \n",
       "\n",
       "                         source_numericalized_padded  \\\n",
       "0  [1, 591, 12, 88, 486, 1233, 2102, 529, 15077, ...   \n",
       "1  [1, 620, 488, 70, 1602, 4386, 563, 529, 488, 7...   \n",
       "\n",
       "                          target_numericalized_input  \\\n",
       "0  [1, 8304, 796, 544, 19301, 2279, 38, 11923, 53...   \n",
       "1  [1, 591, 12, 88, 486, 1233, 2102, 529, 15077, ...   \n",
       "\n",
       "                         target_numericalized_output  \\\n",
       "0  [8304, 796, 544, 19301, 2279, 38, 11923, 530, ...   \n",
       "1  [591, 12, 88, 486, 1233, 2102, 529, 15077, 400...   \n",
       "\n",
       "                   target_numericalized_input_padded  \\\n",
       "0  [1, 8304, 796, 544, 19301, 2279, 38, 11923, 53...   \n",
       "1  [1, 591, 12, 88, 486, 1233, 2102, 529, 15077, ...   \n",
       "\n",
       "                  target_numericalized_output_padded  \\\n",
       "0  [8304, 796, 544, 19301, 2279, 38, 11923, 530, ...   \n",
       "1  [591, 12, 88, 486, 1233, 2102, 529, 15077, 400...   \n",
       "\n",
       "  source_start_token_indexes source_end_token_indexes  \\\n",
       "0              [0, 128, 275]          [127, 274, 478]   \n",
       "1              [0, 147, 351]          [146, 350, 416]   \n",
       "\n",
       "   source_padding_token_first_index  target_input_padding_token_first_index  \n",
       "0                               479                                      65  \n",
       "1                               417                                     127  "
      ]
     },
     "execution_count": 107,
     "metadata": {},
     "output_type": "execute_result"
    }
   ],
   "source": [
    "dataset[:2]"
   ]
  },
  {
   "cell_type": "code",
   "execution_count": 109,
   "metadata": {},
   "outputs": [],
   "source": [
    "dataset[\"source_padded_indices\"] = dataset.apply(lambda row: write_indices_row(row, pad_fill=-1, include_start_end=True), axis=1)"
   ]
  },
  {
   "cell_type": "code",
   "execution_count": 110,
   "metadata": {
    "collapsed": true
   },
   "outputs": [
    {
     "data": {
      "text/plain": [
       "array([ 0.,  0.,  0.,  0.,  0.,  0.,  0.,  0.,  0.,  0.,  0.,  0.,  0.,\n",
       "        0.,  0.,  0.,  0.,  0.,  0.,  0.,  0.,  0.,  0.,  0.,  0.,  0.,\n",
       "        0.,  0.,  0.,  0.,  0.,  0.,  0.,  0.,  0.,  0.,  0.,  0.,  0.,\n",
       "        0.,  0.,  0.,  0.,  0.,  0.,  0.,  0.,  0.,  0.,  0.,  0.,  0.,\n",
       "        0.,  0.,  0.,  0.,  0.,  0.,  0.,  0.,  0.,  0.,  0.,  0.,  0.,\n",
       "        0.,  0.,  0.,  0.,  0.,  0.,  0.,  0.,  0.,  0.,  0.,  0.,  0.,\n",
       "        0.,  0.,  0.,  0.,  0.,  0.,  0.,  0.,  0.,  0.,  0.,  0.,  0.,\n",
       "        0.,  0.,  0.,  0.,  0.,  0.,  0.,  0.,  0.,  0.,  0.,  0.,  0.,\n",
       "        0.,  0.,  0.,  0.,  0.,  0.,  0.,  0.,  0.,  0.,  0.,  0.,  0.,\n",
       "        0.,  0.,  0.,  0.,  0.,  0.,  0.,  0.,  0.,  0.,  0.,  1.,  1.,\n",
       "        1.,  1.,  1.,  1.,  1.,  1.,  1.,  1.,  1.,  1.,  1.,  1.,  1.,\n",
       "        1.,  1.,  1.,  1.,  1.,  1.,  1.,  1.,  1.,  1.,  1.,  1.,  1.,\n",
       "        1.,  1.,  1.,  1.,  1.,  1.,  1.,  1.,  1.,  1.,  1.,  1.,  1.,\n",
       "        1.,  1.,  1.,  1.,  1.,  1.,  1.,  1.,  1.,  1.,  1.,  1.,  1.,\n",
       "        1.,  1.,  1.,  1.,  1.,  1.,  1.,  1.,  1.,  1.,  1.,  1.,  1.,\n",
       "        1.,  1.,  1.,  1.,  1.,  1.,  1.,  1.,  1.,  1.,  1.,  1.,  1.,\n",
       "        1.,  1.,  1.,  1.,  1.,  1.,  1.,  1.,  1.,  1.,  1.,  1.,  1.,\n",
       "        1.,  1.,  1.,  1.,  1.,  1.,  1.,  1.,  1.,  1.,  1.,  1.,  1.,\n",
       "        1.,  1.,  1.,  1.,  1.,  1.,  1.,  1.,  1.,  1.,  1.,  1.,  1.,\n",
       "        1.,  1.,  1.,  1.,  1.,  1.,  1.,  1.,  1.,  1.,  1.,  1.,  1.,\n",
       "        1.,  1.,  1.,  1.,  1.,  1.,  1.,  1.,  1.,  1.,  1.,  1.,  1.,\n",
       "        1.,  1.,  2.,  2.,  2.,  2.,  2.,  2.,  2.,  2.,  2.,  2.,  2.,\n",
       "        2.,  2.,  2.,  2.,  2.,  2.,  2.,  2.,  2.,  2.,  2.,  2.,  2.,\n",
       "        2.,  2.,  2.,  2.,  2.,  2.,  2.,  2.,  2.,  2.,  2.,  2.,  2.,\n",
       "        2.,  2.,  2.,  2.,  2.,  2.,  2.,  2.,  2.,  2.,  2.,  2.,  2.,\n",
       "        2.,  2.,  2.,  2.,  2.,  2.,  2.,  2.,  2.,  2.,  2.,  2.,  2.,\n",
       "        2.,  2.,  2.,  2.,  2.,  2.,  2.,  2.,  2.,  2.,  2.,  2.,  2.,\n",
       "        2.,  2.,  2.,  2.,  2.,  2.,  2.,  2.,  2.,  2.,  2.,  2.,  2.,\n",
       "        2.,  2.,  2.,  2.,  2.,  2.,  2.,  2.,  2.,  2.,  2.,  2.,  2.,\n",
       "        2.,  2.,  2.,  2.,  2.,  2.,  2.,  2.,  2.,  2.,  2.,  2.,  2.,\n",
       "        2.,  2.,  2.,  2.,  2.,  2.,  2.,  2.,  2.,  2.,  2.,  2.,  2.,\n",
       "        2.,  2.,  2.,  2.,  2.,  2.,  2.,  2.,  2.,  2.,  2.,  2.,  2.,\n",
       "        2.,  2.,  2.,  2.,  2.,  2.,  2.,  2.,  2.,  2.,  2.,  2.,  2.,\n",
       "        2.,  2.,  2.,  2.,  2.,  2.,  2.,  2.,  2.,  2.,  2.,  2.,  2.,\n",
       "        2.,  2.,  2.,  2.,  2.,  2.,  2.,  2.,  2.,  2.,  2.,  2.,  2.,\n",
       "        2.,  2.,  2.,  2.,  2.,  2.,  2.,  2.,  2.,  2.,  2.,  2.,  2.,\n",
       "        2.,  2.,  2.,  2.,  2.,  2.,  2.,  2.,  2.,  2.,  2., -1., -1.,\n",
       "       -1., -1., -1., -1., -1., -1., -1., -1., -1., -1., -1., -1., -1.,\n",
       "       -1., -1., -1., -1., -1., -1., -1., -1., -1., -1., -1., -1., -1.,\n",
       "       -1., -1., -1., -1., -1.])"
      ]
     },
     "execution_count": 110,
     "metadata": {},
     "output_type": "execute_result"
    }
   ],
   "source": [
    "dataset.source_padded_indices[0]"
   ]
  },
  {
   "cell_type": "code",
   "execution_count": 111,
   "metadata": {},
   "outputs": [],
   "source": [
    "dataset[\"source_padding_mask\"] = dataset.source_padding_token_first_index.apply(lambda i: np.concatenate((np.zeros(i, dtype=int), np.ones(hp.SOURCE_MAX_NUMBER_OF_TOKENS - i, dtype=int))))\n",
    "dataset.source_padding_mask = dataset.source_padding_mask.apply(lambda x: x.astype(bool))"
   ]
  },
  {
   "cell_type": "code",
   "execution_count": 112,
   "metadata": {},
   "outputs": [
    {
     "name": "stderr",
     "output_type": "stream",
     "text": [
      "/home/marin/anaconda3/lib/python3.8/site-packages/seaborn/_decorators.py:36: FutureWarning: Pass the following variable as a keyword arg: x. From version 0.12, the only valid positional argument will be `data`, and passing other arguments without an explicit keyword will result in an error or misinterpretation.\n",
      "  warnings.warn(\n"
     ]
    },
    {
     "data": {
      "text/plain": [
       "<matplotlib.axes._subplots.AxesSubplot at 0x7fd310ee1130>"
      ]
     },
     "execution_count": 112,
     "metadata": {},
     "output_type": "execute_result"
    },
    {
     "data": {
      "image/png": "[encoded data removed]",
      "text/plain": [
       "<Figure size 720x432 with 1 Axes>"
      ]
     },
     "metadata": {},
     "output_type": "display_data"
    }
   ],
   "source": [
    "sns.countplot(dataset.source_padding_mask[0])"
   ]
  },
  {
   "cell_type": "code",
   "execution_count": 113,
   "metadata": {},
   "outputs": [],
   "source": [
    "dataset[\"target_input_padding_mask\"] = dataset.target_input_padding_token_first_index.apply(lambda i: np.concatenate((np.zeros(i, dtype=int), np.ones(hp.TARGET_MAX_NUMBER_OF_TOKENS - i, dtype=int))))\n",
    "dataset.target_input_padding_mask = dataset.target_input_padding_mask.apply(lambda x: x.astype(bool))"
   ]
  },
  {
   "cell_type": "code",
   "execution_count": 114,
   "metadata": {},
   "outputs": [
    {
     "name": "stderr",
     "output_type": "stream",
     "text": [
      "/home/marin/anaconda3/lib/python3.8/site-packages/seaborn/_decorators.py:36: FutureWarning: Pass the following variable as a keyword arg: x. From version 0.12, the only valid positional argument will be `data`, and passing other arguments without an explicit keyword will result in an error or misinterpretation.\n",
      "  warnings.warn(\n"
     ]
    },
    {
     "data": {
      "text/plain": [
       "<matplotlib.axes._subplots.AxesSubplot at 0x7fd310e8afa0>"
      ]
     },
     "execution_count": 114,
     "metadata": {},
     "output_type": "execute_result"
    },
    {
     "data": {
      "image/png": "[encoded data removed]",
      "text/plain": [
       "<Figure size 720x432 with 1 Axes>"
      ]
     },
     "metadata": {},
     "output_type": "display_data"
    }
   ],
   "source": [
    "sns.countplot(dataset.target_input_padding_mask[0])"
   ]
  },
  {
   "cell_type": "code",
   "execution_count": 115,
   "metadata": {},
   "outputs": [
    {
     "data": {
      "text/html": [
       "<div>\n",
       "<style scoped>\n",
       "    .dataframe tbody tr th:only-of-type {\n",
       "        vertical-align: middle;\n",
       "    }\n",
       "\n",
       "    .dataframe tbody tr th {\n",
       "        vertical-align: top;\n",
       "    }\n",
       "\n",
       "    .dataframe thead th {\n",
       "        text-align: right;\n",
       "    }\n",
       "</style>\n",
       "<table border=\"1\" class=\"dataframe\">\n",
       "  <thead>\n",
       "    <tr style=\"text-align: right;\">\n",
       "      <th></th>\n",
       "      <th>id</th>\n",
       "      <th>input</th>\n",
       "      <th>output</th>\n",
       "      <th>helpfulness_difference</th>\n",
       "      <th>rating_difference</th>\n",
       "      <th>length_difference</th>\n",
       "      <th>target_string</th>\n",
       "      <th>source_string</th>\n",
       "      <th>source_numericalized</th>\n",
       "      <th>target_numericalized</th>\n",
       "      <th>...</th>\n",
       "      <th>target_numericalized_output</th>\n",
       "      <th>target_numericalized_input_padded</th>\n",
       "      <th>target_numericalized_output_padded</th>\n",
       "      <th>source_start_token_indexes</th>\n",
       "      <th>source_end_token_indexes</th>\n",
       "      <th>source_padding_token_first_index</th>\n",
       "      <th>target_input_padding_token_first_index</th>\n",
       "      <th>source_padded_indices</th>\n",
       "      <th>source_padding_mask</th>\n",
       "      <th>target_input_padding_mask</th>\n",
       "    </tr>\n",
       "  </thead>\n",
       "  <tbody>\n",
       "    <tr>\n",
       "      <th>0</th>\n",
       "      <td>tt0004972</td>\n",
       "      <td>[{'title': 'Hateful, mean-spirited propaganda....</td>\n",
       "      <td>{'title': 'One of the all time greats', 'ratin...</td>\n",
       "      <td>-0.038816</td>\n",
       "      <td>6.0</td>\n",
       "      <td>-440.666667</td>\n",
       "      <td>[START] Considering when The Birth Of A Nation...</td>\n",
       "      <td>[START] It's an absolute shame that Griffith a...</td>\n",
       "      <td>[1, 591, 12, 88, 486, 1233, 2102, 529, 15077, ...</td>\n",
       "      <td>[1, 8304, 796, 544, 19301, 2279, 38, 11923, 53...</td>\n",
       "      <td>...</td>\n",
       "      <td>[8304, 796, 544, 19301, 2279, 38, 11923, 530, ...</td>\n",
       "      <td>[1, 8304, 796, 544, 19301, 2279, 38, 11923, 53...</td>\n",
       "      <td>[8304, 796, 544, 19301, 2279, 38, 11923, 530, ...</td>\n",
       "      <td>[0, 128, 275]</td>\n",
       "      <td>[127, 274, 478]</td>\n",
       "      <td>479</td>\n",
       "      <td>65</td>\n",
       "      <td>[0.0, 0.0, 0.0, 0.0, 0.0, 0.0, 0.0, 0.0, 0.0, ...</td>\n",
       "      <td>[False, False, False, False, False, False, Fal...</td>\n",
       "      <td>[False, False, False, False, False, False, Fal...</td>\n",
       "    </tr>\n",
       "    <tr>\n",
       "      <th>1</th>\n",
       "      <td>tt0004972</td>\n",
       "      <td>[{'title': 'Horrible film', 'rating': 1, 'body...</td>\n",
       "      <td>{'title': 'Hateful, mean-spirited propaganda.....</td>\n",
       "      <td>0.013036</td>\n",
       "      <td>-6.0</td>\n",
       "      <td>-43.333333</td>\n",
       "      <td>[START] It's an absolute shame that Griffith a...</td>\n",
       "      <td>[START] This is a horrible racist film that is...</td>\n",
       "      <td>[1, 620, 488, 70, 1602, 4386, 563, 529, 488, 7...</td>\n",
       "      <td>[1, 591, 12, 88, 486, 1233, 2102, 529, 15077, ...</td>\n",
       "      <td>...</td>\n",
       "      <td>[591, 12, 88, 486, 1233, 2102, 529, 15077, 400...</td>\n",
       "      <td>[1, 591, 12, 88, 486, 1233, 2102, 529, 15077, ...</td>\n",
       "      <td>[591, 12, 88, 486, 1233, 2102, 529, 15077, 400...</td>\n",
       "      <td>[0, 147, 351]</td>\n",
       "      <td>[146, 350, 416]</td>\n",
       "      <td>417</td>\n",
       "      <td>127</td>\n",
       "      <td>[0.0, 0.0, 0.0, 0.0, 0.0, 0.0, 0.0, 0.0, 0.0, ...</td>\n",
       "      <td>[False, False, False, False, False, False, Fal...</td>\n",
       "      <td>[False, False, False, False, False, False, Fal...</td>\n",
       "    </tr>\n",
       "  </tbody>\n",
       "</table>\n",
       "<p>2 rows × 22 columns</p>\n",
       "</div>"
      ],
      "text/plain": [
       "          id                                              input  \\\n",
       "0  tt0004972  [{'title': 'Hateful, mean-spirited propaganda....   \n",
       "1  tt0004972  [{'title': 'Horrible film', 'rating': 1, 'body...   \n",
       "\n",
       "                                              output  helpfulness_difference  \\\n",
       "0  {'title': 'One of the all time greats', 'ratin...               -0.038816   \n",
       "1  {'title': 'Hateful, mean-spirited propaganda.....                0.013036   \n",
       "\n",
       "   rating_difference  length_difference  \\\n",
       "0                6.0        -440.666667   \n",
       "1               -6.0         -43.333333   \n",
       "\n",
       "                                       target_string  \\\n",
       "0  [START] Considering when The Birth Of A Nation...   \n",
       "1  [START] It's an absolute shame that Griffith a...   \n",
       "\n",
       "                                       source_string  \\\n",
       "0  [START] It's an absolute shame that Griffith a...   \n",
       "1  [START] This is a horrible racist film that is...   \n",
       "\n",
       "                                source_numericalized  \\\n",
       "0  [1, 591, 12, 88, 486, 1233, 2102, 529, 15077, ...   \n",
       "1  [1, 620, 488, 70, 1602, 4386, 563, 529, 488, 7...   \n",
       "\n",
       "                                target_numericalized  ...  \\\n",
       "0  [1, 8304, 796, 544, 19301, 2279, 38, 11923, 53...  ...   \n",
       "1  [1, 591, 12, 88, 486, 1233, 2102, 529, 15077, ...  ...   \n",
       "\n",
       "                         target_numericalized_output  \\\n",
       "0  [8304, 796, 544, 19301, 2279, 38, 11923, 530, ...   \n",
       "1  [591, 12, 88, 486, 1233, 2102, 529, 15077, 400...   \n",
       "\n",
       "                   target_numericalized_input_padded  \\\n",
       "0  [1, 8304, 796, 544, 19301, 2279, 38, 11923, 53...   \n",
       "1  [1, 591, 12, 88, 486, 1233, 2102, 529, 15077, ...   \n",
       "\n",
       "                  target_numericalized_output_padded  \\\n",
       "0  [8304, 796, 544, 19301, 2279, 38, 11923, 530, ...   \n",
       "1  [591, 12, 88, 486, 1233, 2102, 529, 15077, 400...   \n",
       "\n",
       "  source_start_token_indexes source_end_token_indexes  \\\n",
       "0              [0, 128, 275]          [127, 274, 478]   \n",
       "1              [0, 147, 351]          [146, 350, 416]   \n",
       "\n",
       "  source_padding_token_first_index target_input_padding_token_first_index  \\\n",
       "0                              479                                     65   \n",
       "1                              417                                    127   \n",
       "\n",
       "                               source_padded_indices  \\\n",
       "0  [0.0, 0.0, 0.0, 0.0, 0.0, 0.0, 0.0, 0.0, 0.0, ...   \n",
       "1  [0.0, 0.0, 0.0, 0.0, 0.0, 0.0, 0.0, 0.0, 0.0, ...   \n",
       "\n",
       "                                 source_padding_mask  \\\n",
       "0  [False, False, False, False, False, False, Fal...   \n",
       "1  [False, False, False, False, False, False, Fal...   \n",
       "\n",
       "                           target_input_padding_mask  \n",
       "0  [False, False, False, False, False, False, Fal...  \n",
       "1  [False, False, False, False, False, False, Fal...  \n",
       "\n",
       "[2 rows x 22 columns]"
      ]
     },
     "execution_count": 115,
     "metadata": {},
     "output_type": "execute_result"
    }
   ],
   "source": [
    "dataset[:2]"
   ]
  },
  {
   "cell_type": "code",
   "execution_count": 116,
   "metadata": {},
   "outputs": [],
   "source": [
    "review=2"
   ]
  },
  {
   "cell_type": "code",
   "execution_count": 117,
   "metadata": {},
   "outputs": [
    {
     "data": {
      "text/plain": [
       "\"Birth of a Nation is still controversial today. Its themes strike a chord with our sensibilities because it deals with an ugly part of our national identity. The Birth of a Nation not only caused the revival of the Ku Klux Klan but set a high cinematic standard that had long reaching effects on world cinema. Indeed it was a year later when Griffith responded to critics who railed against him for the cinematic adaptation of the now all but forgotten novel turned play, The Clansman. But let's look past the negrophobia for a minute if only to look at the earliest works of Hitchcock, Lang, Pabst, Murnau, and Eisenstein. That alone should suggest that BoaN is a worthy film, but suggesting this would overlook the superlative performance of Lillian Gish, prodigal camerawork and storytelling skills of Griffith, and of course the small matter of this films undaunted importance and popularity in the first half of the twentieth century.\""
      ]
     },
     "execution_count": 117,
     "metadata": {},
     "output_type": "execute_result"
    }
   ],
   "source": [
    "dataset.input[0][review]['body']"
   ]
  },
  {
   "cell_type": "code",
   "execution_count": 118,
   "metadata": {},
   "outputs": [
    {
     "data": {
      "text/plain": [
       "\"Birth of a Nation is still controversial today . Its themes strike a chord with our sensibilities because it deals with an ugly part of our national identity . The Birth of a Nation not only caused the revival of the Ku K lux K lan but set a high cinematic standard that had long reaching effects on world cinema . Indeed it was a year later when Griffith respond ed to critics who ra iled against him for the cinematic adaptation of the now all but forgotten novel turned play , The Cl ans man . But let ' s look past the ne gr op hobia for a minute if only to look at the ear liest works of Hitchcock , Lang , P ab st , Mur n au , and Eis en stein . That alone should suggest that Bo a N is a worthy film , but suggesting this would overlook the superl ative performance of L illian G ish , pro dig al camerawork and storytelling skills of Griffith , and of course the small matter of this films und aunt ed importance and popularity in the first half of the twent ie th century .\""
      ]
     },
     "execution_count": 118,
     "metadata": {},
     "output_type": "execute_result"
    }
   ],
   "source": [
    "tokenizer.decode([n for i,n in zip(dataset.source_padded_indices[0], dataset.source_numericalized[0]) if i==review])"
   ]
  },
  {
   "cell_type": "code",
   "execution_count": 119,
   "metadata": {
    "collapsed": true
   },
   "outputs": [
    {
     "data": {
      "text/plain": [
       "array([ 0.,  0.,  0.,  0.,  0.,  0.,  0.,  0.,  0.,  0.,  0.,  0.,  0.,\n",
       "        0.,  0.,  0.,  0.,  0.,  0.,  0.,  0.,  0.,  0.,  0.,  0.,  0.,\n",
       "        0.,  0.,  0.,  0.,  0.,  0.,  0.,  0.,  0.,  0.,  0.,  0.,  0.,\n",
       "        0.,  0.,  0.,  0.,  0.,  0.,  0.,  0.,  0.,  0.,  0.,  0.,  0.,\n",
       "        0.,  0.,  0.,  0.,  0.,  0.,  0.,  0.,  0.,  0.,  0.,  0.,  0.,\n",
       "        0.,  0.,  0.,  0.,  0.,  0.,  0.,  0.,  0.,  0.,  0.,  0.,  0.,\n",
       "        0.,  0.,  0.,  0.,  0.,  0.,  0.,  0.,  0.,  0.,  0.,  0.,  0.,\n",
       "        0.,  0.,  0.,  0.,  0.,  0.,  0.,  0.,  0.,  0.,  0.,  0.,  0.,\n",
       "        0.,  0.,  0.,  0.,  0.,  0.,  0.,  0.,  0.,  0.,  0.,  0.,  0.,\n",
       "        0.,  0.,  0.,  0.,  0.,  0.,  0.,  0.,  0.,  0.,  0.,  1.,  1.,\n",
       "        1.,  1.,  1.,  1.,  1.,  1.,  1.,  1.,  1.,  1.,  1.,  1.,  1.,\n",
       "        1.,  1.,  1.,  1.,  1.,  1.,  1.,  1.,  1.,  1.,  1.,  1.,  1.,\n",
       "        1.,  1.,  1.,  1.,  1.,  1.,  1.,  1.,  1.,  1.,  1.,  1.,  1.,\n",
       "        1.,  1.,  1.,  1.,  1.,  1.,  1.,  1.,  1.,  1.,  1.,  1.,  1.,\n",
       "        1.,  1.,  1.,  1.,  1.,  1.,  1.,  1.,  1.,  1.,  1.,  1.,  1.,\n",
       "        1.,  1.,  1.,  1.,  1.,  1.,  1.,  1.,  1.,  1.,  1.,  1.,  1.,\n",
       "        1.,  1.,  1.,  1.,  1.,  1.,  1.,  1.,  1.,  1.,  1.,  1.,  1.,\n",
       "        1.,  1.,  1.,  1.,  1.,  1.,  1.,  1.,  1.,  1.,  1.,  1.,  1.,\n",
       "        1.,  1.,  1.,  1.,  1.,  1.,  1.,  1.,  1.,  1.,  1.,  1.,  1.,\n",
       "        1.,  1.,  1.,  1.,  1.,  1.,  1.,  1.,  1.,  1.,  1.,  1.,  1.,\n",
       "        1.,  1.,  1.,  1.,  1.,  1.,  1.,  1.,  1.,  1.,  1.,  1.,  1.,\n",
       "        1.,  1.,  2.,  2.,  2.,  2.,  2.,  2.,  2.,  2.,  2.,  2.,  2.,\n",
       "        2.,  2.,  2.,  2.,  2.,  2.,  2.,  2.,  2.,  2.,  2.,  2.,  2.,\n",
       "        2.,  2.,  2.,  2.,  2.,  2.,  2.,  2.,  2.,  2.,  2.,  2.,  2.,\n",
       "        2.,  2.,  2.,  2.,  2.,  2.,  2.,  2.,  2.,  2.,  2.,  2.,  2.,\n",
       "        2.,  2.,  2.,  2.,  2.,  2.,  2.,  2.,  2.,  2.,  2.,  2.,  2.,\n",
       "        2.,  2.,  2.,  2.,  2.,  2.,  2.,  2.,  2.,  2.,  2.,  2.,  2.,\n",
       "        2.,  2.,  2.,  2.,  2.,  2.,  2.,  2.,  2.,  2.,  2.,  2.,  2.,\n",
       "        2.,  2.,  2.,  2.,  2.,  2.,  2.,  2.,  2.,  2.,  2.,  2.,  2.,\n",
       "        2.,  2.,  2.,  2.,  2.,  2.,  2.,  2.,  2.,  2.,  2.,  2.,  2.,\n",
       "        2.,  2.,  2.,  2.,  2.,  2.,  2.,  2.,  2.,  2.,  2.,  2.,  2.,\n",
       "        2.,  2.,  2.,  2.,  2.,  2.,  2.,  2.,  2.,  2.,  2.,  2.,  2.,\n",
       "        2.,  2.,  2.,  2.,  2.,  2.,  2.,  2.,  2.,  2.,  2.,  2.,  2.,\n",
       "        2.,  2.,  2.,  2.,  2.,  2.,  2.,  2.,  2.,  2.,  2.,  2.,  2.,\n",
       "        2.,  2.,  2.,  2.,  2.,  2.,  2.,  2.,  2.,  2.,  2.,  2.,  2.,\n",
       "        2.,  2.,  2.,  2.,  2.,  2.,  2.,  2.,  2.,  2.,  2.,  2.,  2.,\n",
       "        2.,  2.,  2.,  2.,  2.,  2.,  2.,  2.,  2.,  2.,  2., -1., -1.,\n",
       "       -1., -1., -1., -1., -1., -1., -1., -1., -1., -1., -1., -1., -1.,\n",
       "       -1., -1., -1., -1., -1., -1., -1., -1., -1., -1., -1., -1., -1.,\n",
       "       -1., -1., -1., -1., -1.])"
      ]
     },
     "execution_count": 119,
     "metadata": {},
     "output_type": "execute_result"
    }
   ],
   "source": [
    "dataset.source_padded_indices[0]"
   ]
  },
  {
   "cell_type": "code",
   "execution_count": 120,
   "metadata": {
    "collapsed": true
   },
   "outputs": [
    {
     "data": {
      "text/plain": [
       "array([False, False, False, False, False, False, False, False, False,\n",
       "       False, False, False, False, False, False, False, False, False,\n",
       "       False, False, False, False, False, False, False, False, False,\n",
       "       False, False, False, False, False, False, False, False, False,\n",
       "       False, False, False, False, False, False, False, False, False,\n",
       "       False, False, False, False, False, False, False, False, False,\n",
       "       False, False, False, False, False, False, False, False, False,\n",
       "       False, False, False, False, False, False, False, False, False,\n",
       "       False, False, False, False, False, False, False, False, False,\n",
       "       False, False, False, False, False, False, False, False, False,\n",
       "       False, False, False, False, False, False, False, False, False,\n",
       "       False, False, False, False, False, False, False, False, False,\n",
       "       False, False, False, False, False, False, False, False, False,\n",
       "       False, False, False, False, False, False, False, False, False,\n",
       "       False, False, False, False, False, False, False, False, False,\n",
       "       False, False, False, False, False, False, False, False, False,\n",
       "       False, False, False, False, False, False, False, False, False,\n",
       "       False, False, False, False, False, False, False, False, False,\n",
       "       False, False, False, False, False, False, False, False, False,\n",
       "       False, False, False, False, False, False, False, False, False,\n",
       "       False, False, False, False, False, False, False, False, False,\n",
       "       False, False, False, False, False, False, False, False, False,\n",
       "       False, False, False, False, False, False, False, False, False,\n",
       "       False, False, False, False, False, False, False, False, False,\n",
       "       False, False, False, False, False, False, False, False, False,\n",
       "       False, False, False, False, False, False, False, False, False,\n",
       "       False, False, False, False, False, False, False, False, False,\n",
       "       False, False, False, False, False, False, False, False, False,\n",
       "       False, False, False, False, False, False, False, False, False,\n",
       "       False, False, False, False, False, False, False, False, False,\n",
       "       False, False, False, False, False, False, False, False, False,\n",
       "       False, False, False, False, False, False, False, False, False,\n",
       "       False, False, False, False, False, False, False, False, False,\n",
       "       False, False, False, False, False, False, False, False, False,\n",
       "       False, False, False, False, False, False, False, False, False,\n",
       "       False, False, False, False, False, False, False, False, False,\n",
       "       False, False, False, False, False, False, False, False, False,\n",
       "       False, False, False, False, False, False, False, False, False,\n",
       "       False, False, False, False, False, False, False, False, False,\n",
       "       False, False, False, False, False, False, False, False, False,\n",
       "       False, False, False, False, False, False, False, False, False,\n",
       "       False, False, False, False, False, False, False, False, False,\n",
       "       False, False, False, False, False, False, False, False, False,\n",
       "       False, False, False, False, False, False, False, False, False,\n",
       "       False, False, False, False, False, False, False, False, False,\n",
       "       False, False, False, False, False, False, False, False, False,\n",
       "       False, False, False, False, False, False, False, False, False,\n",
       "       False, False, False, False, False, False, False, False, False,\n",
       "       False, False, False, False, False, False, False, False, False,\n",
       "       False, False, False, False, False, False, False, False, False,\n",
       "       False, False, False, False, False, False, False, False, False,\n",
       "       False, False, False, False, False, False, False, False, False,\n",
       "       False, False, False, False, False, False, False, False, False,\n",
       "       False, False,  True,  True,  True,  True,  True,  True,  True,\n",
       "        True,  True,  True,  True,  True,  True,  True,  True,  True,\n",
       "        True,  True,  True,  True,  True,  True,  True,  True,  True,\n",
       "        True,  True,  True,  True,  True,  True,  True,  True])"
      ]
     },
     "execution_count": 120,
     "metadata": {},
     "output_type": "execute_result"
    }
   ],
   "source": [
    "dataset.source_padding_mask[0]"
   ]
  },
  {
   "cell_type": "code",
   "execution_count": 121,
   "metadata": {
    "collapsed": true
   },
   "outputs": [
    {
     "data": {
      "text/plain": [
       "array([False, False, False, False, False, False, False, False, False,\n",
       "       False, False, False, False, False, False, False, False, False,\n",
       "       False, False, False, False, False, False, False, False, False,\n",
       "       False, False, False, False, False, False, False, False, False,\n",
       "       False, False, False, False, False, False, False, False, False,\n",
       "       False, False, False, False, False, False, False, False, False,\n",
       "       False, False, False, False, False, False, False, False, False,\n",
       "       False, False,  True,  True,  True,  True,  True,  True,  True,\n",
       "        True,  True,  True,  True,  True,  True,  True,  True,  True,\n",
       "        True,  True,  True,  True,  True,  True,  True,  True,  True,\n",
       "        True,  True,  True,  True,  True,  True,  True,  True,  True,\n",
       "        True,  True,  True,  True,  True,  True,  True,  True,  True,\n",
       "        True,  True,  True,  True,  True,  True,  True,  True,  True,\n",
       "        True,  True,  True,  True,  True,  True,  True,  True,  True,\n",
       "        True,  True,  True,  True,  True,  True,  True,  True,  True,\n",
       "        True,  True,  True,  True,  True,  True,  True,  True,  True,\n",
       "        True,  True,  True,  True,  True,  True,  True,  True,  True,\n",
       "        True,  True,  True,  True,  True,  True,  True,  True,  True,\n",
       "        True,  True,  True,  True,  True,  True,  True,  True,  True,\n",
       "        True,  True,  True,  True,  True,  True,  True,  True,  True,\n",
       "        True,  True,  True,  True,  True,  True,  True,  True,  True,\n",
       "        True,  True,  True,  True,  True,  True,  True,  True,  True,\n",
       "        True,  True,  True,  True,  True,  True,  True,  True,  True,\n",
       "        True,  True,  True,  True,  True,  True,  True,  True,  True,\n",
       "        True,  True,  True,  True,  True,  True,  True,  True,  True,\n",
       "        True,  True,  True,  True,  True,  True,  True,  True,  True,\n",
       "        True,  True,  True,  True,  True,  True,  True,  True,  True,\n",
       "        True,  True,  True,  True,  True,  True,  True,  True,  True,\n",
       "        True,  True,  True,  True])"
      ]
     },
     "execution_count": 121,
     "metadata": {},
     "output_type": "execute_result"
    }
   ],
   "source": [
    "dataset.target_input_padding_mask[0]"
   ]
  },
  {
   "cell_type": "code",
   "execution_count": 122,
   "metadata": {},
   "outputs": [
    {
     "data": {
      "text/plain": [
       "'[START] Considering when The Birth Of A Nation was made and considering what came before, this is one of if not the greatest film ever made. It may not conform to the modern view of race relations. Never the less, it is an unforgitable viewing experience. A must see for any serious film historian. [END]'"
      ]
     },
     "execution_count": 122,
     "metadata": {},
     "output_type": "execute_result"
    }
   ],
   "source": [
    "dataset.target_string[0]"
   ]
  },
  {
   "cell_type": "code",
   "execution_count": 123,
   "metadata": {},
   "outputs": [
    {
     "data": {
      "text/plain": [
       "'Considering when The Birth Of A Nation was made and considering what came before , this is one of if not the greatest film ever made . It may not conform to the modern view of race relations . Never the less , it is an un for g it able viewing experience . A must see for any serious film histor ian .'"
      ]
     },
     "execution_count": 123,
     "metadata": {},
     "output_type": "execute_result"
    }
   ],
   "source": [
    "tokenizer.decode([n for b,n in zip(dataset.target_input_padding_mask[0], dataset.target_numericalized_input[0]) if not b])"
   ]
  },
  {
   "cell_type": "code",
   "execution_count": 124,
   "metadata": {},
   "outputs": [
    {
     "data": {
      "text/plain": [
       "19"
      ]
     },
     "execution_count": 124,
     "metadata": {},
     "output_type": "execute_result"
    }
   ],
   "source": [
    "[n for b,n in zip(dataset.target_input_padding_mask[0], dataset.target_numericalized_input[0]) if not b][-1]"
   ]
  },
  {
   "cell_type": "code",
   "execution_count": 128,
   "metadata": {},
   "outputs": [
    {
     "data": {
      "text/plain": [
       "'.'"
      ]
     },
     "execution_count": 128,
     "metadata": {},
     "output_type": "execute_result"
    }
   ],
   "source": [
    "tokenizer.id_to_token(19)"
   ]
  },
  {
   "cell_type": "code",
   "execution_count": null,
   "metadata": {},
   "outputs": [],
   "source": []
  },
  {
   "cell_type": "code",
   "execution_count": 129,
   "metadata": {
    "collapsed": true
   },
   "outputs": [
    {
     "name": "stdout",
     "output_type": "stream",
     "text": [
      "<class 'pandas.core.frame.DataFrame'>\n",
      "Int64Index: 114445 entries, 0 to 143600\n",
      "Data columns (total 22 columns):\n",
      " #   Column                                  Non-Null Count   Dtype  \n",
      "---  ------                                  --------------   -----  \n",
      " 0   id                                      114445 non-null  object \n",
      " 1   input                                   114445 non-null  object \n",
      " 2   output                                  114445 non-null  object \n",
      " 3   helpfulness_difference                  114445 non-null  float64\n",
      " 4   rating_difference                       114445 non-null  float64\n",
      " 5   length_difference                       114445 non-null  float64\n",
      " 6   target_string                           114445 non-null  object \n",
      " 7   source_string                           114445 non-null  object \n",
      " 8   source_numericalized                    114445 non-null  object \n",
      " 9   target_numericalized                    114445 non-null  object \n",
      " 10  source_numericalized_padded             114445 non-null  object \n",
      " 11  target_numericalized_input              114445 non-null  object \n",
      " 12  target_numericalized_output             114445 non-null  object \n",
      " 13  target_numericalized_input_padded       114445 non-null  object \n",
      " 14  target_numericalized_output_padded      114445 non-null  object \n",
      " 15  source_start_token_indexes              114445 non-null  object \n",
      " 16  source_end_token_indexes                114445 non-null  object \n",
      " 17  source_padding_token_first_index        114445 non-null  int64  \n",
      " 18  target_input_padding_token_first_index  114445 non-null  int64  \n",
      " 19  source_padded_indices                   114445 non-null  object \n",
      " 20  source_padding_mask                     114445 non-null  object \n",
      " 21  target_input_padding_mask               114445 non-null  object \n",
      "dtypes: float64(3), int64(2), object(17)\n",
      "memory usage: 25.1+ MB\n"
     ]
    }
   ],
   "source": [
    "dataset.info()"
   ]
  },
  {
   "cell_type": "code",
   "execution_count": 130,
   "metadata": {},
   "outputs": [],
   "source": [
    "dataset = dataset.reset_index(drop=True)"
   ]
  },
  {
   "cell_type": "code",
   "execution_count": 131,
   "metadata": {},
   "outputs": [
    {
     "name": "stderr",
     "output_type": "stream",
     "text": [
      "/home/marin/anaconda3/lib/python3.8/site-packages/seaborn/_decorators.py:36: FutureWarning: Pass the following variable as a keyword arg: x. From version 0.12, the only valid positional argument will be `data`, and passing other arguments without an explicit keyword will result in an error or misinterpretation.\n",
      "  warnings.warn(\n"
     ]
    },
    {
     "data": {
      "text/plain": [
       "<matplotlib.axes._subplots.AxesSubplot at 0x7fd3113b7a30>"
      ]
     },
     "execution_count": 131,
     "metadata": {},
     "output_type": "execute_result"
    },
    {
     "data": {
      "image/png": "[encoded data removed]",
      "text/plain": [
       "<Figure size 720x432 with 1 Axes>"
      ]
     },
     "metadata": {},
     "output_type": "display_data"
    }
   ],
   "source": [
    "sns.countplot(dataset.output.apply(lambda r: [r['rating']]).sum())"
   ]
  },
  {
   "cell_type": "code",
   "execution_count": 132,
   "metadata": {},
   "outputs": [
    {
     "name": "stderr",
     "output_type": "stream",
     "text": [
      "/home/marin/anaconda3/lib/python3.8/site-packages/seaborn/distributions.py:2551: FutureWarning: `distplot` is a deprecated function and will be removed in a future version. Please adapt your code to use either `displot` (a figure-level function with similar flexibility) or `histplot` (an axes-level function for histograms).\n",
      "  warnings.warn(msg, FutureWarning)\n"
     ]
    },
    {
     "data": {
      "text/plain": [
       "<matplotlib.axes._subplots.AxesSubplot at 0x7fd3100d5160>"
      ]
     },
     "execution_count": 132,
     "metadata": {},
     "output_type": "execute_result"
    },
    {
     "data": {
      "image/png": "[encoded data removed]",
      "text/plain": [
       "<Figure size 720x432 with 1 Axes>"
      ]
     },
     "metadata": {},
     "output_type": "display_data"
    }
   ],
   "source": [
    "sns.distplot([helpfulness(o) for o in dataset.output])"
   ]
  },
  {
   "cell_type": "code",
   "execution_count": null,
   "metadata": {},
   "outputs": [],
   "source": []
  },
  {
   "cell_type": "code",
   "execution_count": 133,
   "metadata": {},
   "outputs": [],
   "source": [
    "dataset[\"source_ratings\"] = dataset.apply(lambda row: write_indices_row(row, values_to_fill=[r['rating'] for r in row.input], dtype=int, include_start_end=False, pad_fill=0) ,axis=1)"
   ]
  },
  {
   "cell_type": "code",
   "execution_count": 134,
   "metadata": {
    "collapsed": true
   },
   "outputs": [
    {
     "data": {
      "text/plain": [
       "array([ 0,  1,  1,  1,  1,  1,  1,  1,  1,  1,  1,  1,  1,  1,  1,  1,  1,\n",
       "        1,  1,  1,  1,  1,  1,  1,  1,  1,  1,  1,  1,  1,  1,  1,  1,  1,\n",
       "        1,  1,  1,  1,  1,  1,  1,  1,  1,  1,  1,  1,  1,  1,  1,  1,  1,\n",
       "        1,  1,  1,  1,  1,  1,  1,  1,  1,  1,  1,  1,  1,  1,  1,  1,  1,\n",
       "        1,  1,  1,  1,  1,  1,  1,  1,  1,  1,  1,  1,  1,  1,  1,  1,  1,\n",
       "        1,  1,  1,  1,  1,  1,  1,  1,  1,  1,  1,  1,  1,  1,  1,  1,  1,\n",
       "        1,  1,  1,  1,  1,  1,  1,  1,  1,  1,  1,  1,  1,  1,  1,  1,  1,\n",
       "        1,  1,  1,  1,  1,  1,  1,  1,  1,  1,  1,  1,  1,  1,  1,  1,  1,\n",
       "        1,  1,  1,  1,  1,  1,  1,  1,  1,  1,  1,  1,  1,  1,  1,  1,  1,\n",
       "        1,  1,  1,  1,  1,  1,  1,  1,  1,  1,  1,  1,  1,  1,  1,  1,  1,\n",
       "        1,  1,  1,  1,  1,  1,  1,  1,  1,  1,  1,  1,  1,  1,  1,  1,  1,\n",
       "        1,  1,  1,  1,  1,  1,  1,  1,  1,  1,  1,  1,  1,  1,  1,  1,  1,\n",
       "        1,  0,  0, 10, 10, 10, 10, 10, 10, 10, 10, 10, 10, 10, 10, 10, 10,\n",
       "       10, 10, 10, 10, 10, 10, 10, 10, 10, 10, 10, 10, 10, 10, 10, 10, 10,\n",
       "       10, 10, 10, 10, 10, 10, 10, 10, 10, 10, 10, 10, 10, 10, 10, 10, 10,\n",
       "       10, 10, 10, 10, 10, 10, 10, 10, 10, 10, 10, 10, 10, 10, 10, 10, 10,\n",
       "       10, 10, 10, 10, 10, 10, 10, 10, 10, 10, 10, 10, 10, 10, 10, 10, 10,\n",
       "       10, 10, 10, 10, 10, 10, 10, 10, 10, 10, 10, 10, 10, 10, 10, 10, 10,\n",
       "       10, 10, 10, 10, 10, 10, 10, 10, 10, 10, 10, 10, 10, 10, 10, 10, 10,\n",
       "       10, 10, 10, 10, 10, 10, 10, 10, 10, 10, 10, 10, 10, 10, 10, 10, 10,\n",
       "       10, 10, 10, 10, 10, 10, 10, 10, 10, 10, 10, 10, 10, 10, 10, 10, 10,\n",
       "       10, 10, 10, 10, 10, 10, 10, 10, 10, 10, 10, 10, 10, 10, 10, 10, 10,\n",
       "       10, 10, 10, 10, 10, 10, 10, 10, 10, 10, 10, 10, 10, 10, 10,  0,  0,\n",
       "        1,  1,  1,  1,  1,  1,  1,  1,  1,  1,  1,  1,  1,  1,  1,  1,  1,\n",
       "        1,  1,  1,  1,  1,  1,  1,  1,  1,  1,  1,  1,  1,  1,  1,  1,  1,\n",
       "        1,  1,  1,  1,  1,  1,  1,  1,  1,  1,  1,  1,  1,  1,  1,  1,  1,\n",
       "        1,  1,  1,  1,  1,  1,  1,  1,  1,  1,  1,  1,  1,  1,  1,  1,  1,\n",
       "        1,  1,  1,  1,  1,  1,  1,  1,  1,  1,  1,  1,  1,  1,  1,  1,  1,\n",
       "        1,  1,  1,  1,  1,  1,  1,  1,  0,  0,  0,  0,  0,  0,  0,  0,  0,\n",
       "        0,  0,  0,  0,  0,  0,  0,  0,  0,  0,  0,  0,  0,  0,  0,  0,  0,\n",
       "        0,  0])"
      ]
     },
     "execution_count": 134,
     "metadata": {},
     "output_type": "execute_result"
    }
   ],
   "source": [
    "dataset.source_ratings[8]"
   ]
  },
  {
   "cell_type": "code",
   "execution_count": 135,
   "metadata": {
    "collapsed": true
   },
   "outputs": [
    {
     "data": {
      "text/plain": [
       "[(0, False),\n",
       " (1, False),\n",
       " (1, False),\n",
       " (1, False),\n",
       " (1, False),\n",
       " (1, False),\n",
       " (1, False),\n",
       " (1, False),\n",
       " (1, False),\n",
       " (1, False),\n",
       " (1, False),\n",
       " (1, False),\n",
       " (1, False),\n",
       " (1, False),\n",
       " (1, False),\n",
       " (1, False),\n",
       " (1, False),\n",
       " (1, False),\n",
       " (1, False),\n",
       " (1, False),\n",
       " (1, False),\n",
       " (1, False),\n",
       " (1, False),\n",
       " (1, False),\n",
       " (1, False),\n",
       " (1, False),\n",
       " (1, False),\n",
       " (1, False),\n",
       " (1, False),\n",
       " (1, False),\n",
       " (1, False),\n",
       " (1, False),\n",
       " (1, False),\n",
       " (1, False),\n",
       " (1, False),\n",
       " (1, False),\n",
       " (1, False),\n",
       " (1, False),\n",
       " (1, False),\n",
       " (1, False),\n",
       " (1, False),\n",
       " (1, False),\n",
       " (1, False),\n",
       " (1, False),\n",
       " (1, False),\n",
       " (1, False),\n",
       " (1, False),\n",
       " (1, False),\n",
       " (1, False),\n",
       " (1, False),\n",
       " (1, False),\n",
       " (1, False),\n",
       " (1, False),\n",
       " (1, False),\n",
       " (1, False),\n",
       " (1, False),\n",
       " (1, False),\n",
       " (1, False),\n",
       " (1, False),\n",
       " (1, False),\n",
       " (1, False),\n",
       " (1, False),\n",
       " (1, False),\n",
       " (1, False),\n",
       " (1, False),\n",
       " (1, False),\n",
       " (1, False),\n",
       " (1, False),\n",
       " (1, False),\n",
       " (1, False),\n",
       " (1, False),\n",
       " (1, False),\n",
       " (1, False),\n",
       " (1, False),\n",
       " (1, False),\n",
       " (1, False),\n",
       " (1, False),\n",
       " (1, False),\n",
       " (1, False),\n",
       " (1, False),\n",
       " (1, False),\n",
       " (1, False),\n",
       " (1, False),\n",
       " (1, False),\n",
       " (1, False),\n",
       " (1, False),\n",
       " (1, False),\n",
       " (1, False),\n",
       " (1, False),\n",
       " (1, False),\n",
       " (1, False),\n",
       " (1, False),\n",
       " (1, False),\n",
       " (1, False),\n",
       " (1, False),\n",
       " (1, False),\n",
       " (1, False),\n",
       " (1, False),\n",
       " (1, False),\n",
       " (1, False),\n",
       " (1, False),\n",
       " (1, False),\n",
       " (1, False),\n",
       " (1, False),\n",
       " (1, False),\n",
       " (1, False),\n",
       " (1, False),\n",
       " (1, False),\n",
       " (1, False),\n",
       " (1, False),\n",
       " (1, False),\n",
       " (1, False),\n",
       " (1, False),\n",
       " (1, False),\n",
       " (1, False),\n",
       " (1, False),\n",
       " (1, False),\n",
       " (1, False),\n",
       " (1, False),\n",
       " (1, False),\n",
       " (1, False),\n",
       " (1, False),\n",
       " (1, False),\n",
       " (1, False),\n",
       " (1, False),\n",
       " (1, False),\n",
       " (1, False),\n",
       " (1, False),\n",
       " (1, False),\n",
       " (1, False),\n",
       " (1, False),\n",
       " (1, False),\n",
       " (1, False),\n",
       " (1, False),\n",
       " (1, False),\n",
       " (1, False),\n",
       " (1, False),\n",
       " (1, False),\n",
       " (1, False),\n",
       " (1, False),\n",
       " (1, False),\n",
       " (1, False),\n",
       " (1, False),\n",
       " (1, False),\n",
       " (1, False),\n",
       " (1, False),\n",
       " (1, False),\n",
       " (1, False),\n",
       " (1, False),\n",
       " (1, False),\n",
       " (1, False),\n",
       " (1, False),\n",
       " (1, False),\n",
       " (1, False),\n",
       " (1, False),\n",
       " (1, False),\n",
       " (1, False),\n",
       " (1, False),\n",
       " (1, False),\n",
       " (1, False),\n",
       " (1, False),\n",
       " (1, False),\n",
       " (1, False),\n",
       " (1, False),\n",
       " (1, False),\n",
       " (1, False),\n",
       " (1, False),\n",
       " (1, False),\n",
       " (1, False),\n",
       " (1, False),\n",
       " (1, False),\n",
       " (1, False),\n",
       " (1, False),\n",
       " (1, False),\n",
       " (1, False),\n",
       " (1, False),\n",
       " (1, False),\n",
       " (1, False),\n",
       " (1, False),\n",
       " (1, False),\n",
       " (1, False),\n",
       " (1, False),\n",
       " (1, False),\n",
       " (1, False),\n",
       " (1, False),\n",
       " (1, False),\n",
       " (1, False),\n",
       " (1, False),\n",
       " (1, False),\n",
       " (1, False),\n",
       " (1, False),\n",
       " (1, False),\n",
       " (1, False),\n",
       " (1, False),\n",
       " (1, False),\n",
       " (1, False),\n",
       " (1, False),\n",
       " (1, False),\n",
       " (1, False),\n",
       " (1, False),\n",
       " (1, False),\n",
       " (1, False),\n",
       " (1, False),\n",
       " (1, False),\n",
       " (1, False),\n",
       " (0, False),\n",
       " (0, False),\n",
       " (10, False),\n",
       " (10, False),\n",
       " (10, False),\n",
       " (10, False),\n",
       " (10, False),\n",
       " (10, False),\n",
       " (10, False),\n",
       " (10, False),\n",
       " (10, False),\n",
       " (10, False),\n",
       " (10, False),\n",
       " (10, False),\n",
       " (10, False),\n",
       " (10, False),\n",
       " (10, False),\n",
       " (10, False),\n",
       " (10, False),\n",
       " (10, False),\n",
       " (10, False),\n",
       " (10, False),\n",
       " (10, False),\n",
       " (10, False),\n",
       " (10, False),\n",
       " (10, False),\n",
       " (10, False),\n",
       " (10, False),\n",
       " (10, False),\n",
       " (10, False),\n",
       " (10, False),\n",
       " (10, False),\n",
       " (10, False),\n",
       " (10, False),\n",
       " (10, False),\n",
       " (10, False),\n",
       " (10, False),\n",
       " (10, False),\n",
       " (10, False),\n",
       " (10, False),\n",
       " (10, False),\n",
       " (10, False),\n",
       " (10, False),\n",
       " (10, False),\n",
       " (10, False),\n",
       " (10, False),\n",
       " (10, False),\n",
       " (10, False),\n",
       " (10, False),\n",
       " (10, False),\n",
       " (10, False),\n",
       " (10, False),\n",
       " (10, False),\n",
       " (10, False),\n",
       " (10, False),\n",
       " (10, False),\n",
       " (10, False),\n",
       " (10, False),\n",
       " (10, False),\n",
       " (10, False),\n",
       " (10, False),\n",
       " (10, False),\n",
       " (10, False),\n",
       " (10, False),\n",
       " (10, False),\n",
       " (10, False),\n",
       " (10, False),\n",
       " (10, False),\n",
       " (10, False),\n",
       " (10, False),\n",
       " (10, False),\n",
       " (10, False),\n",
       " (10, False),\n",
       " (10, False),\n",
       " (10, False),\n",
       " (10, False),\n",
       " (10, False),\n",
       " (10, False),\n",
       " (10, False),\n",
       " (10, False),\n",
       " (10, False),\n",
       " (10, False),\n",
       " (10, False),\n",
       " (10, False),\n",
       " (10, False),\n",
       " (10, False),\n",
       " (10, False),\n",
       " (10, False),\n",
       " (10, False),\n",
       " (10, False),\n",
       " (10, False),\n",
       " (10, False),\n",
       " (10, False),\n",
       " (10, False),\n",
       " (10, False),\n",
       " (10, False),\n",
       " (10, False),\n",
       " (10, False),\n",
       " (10, False),\n",
       " (10, False),\n",
       " (10, False),\n",
       " (10, False),\n",
       " (10, False),\n",
       " (10, False),\n",
       " (10, False),\n",
       " (10, False),\n",
       " (10, False),\n",
       " (10, False),\n",
       " (10, False),\n",
       " (10, False),\n",
       " (10, False),\n",
       " (10, False),\n",
       " (10, False),\n",
       " (10, False),\n",
       " (10, False),\n",
       " (10, False),\n",
       " (10, False),\n",
       " (10, False),\n",
       " (10, False),\n",
       " (10, False),\n",
       " (10, False),\n",
       " (10, False),\n",
       " (10, False),\n",
       " (10, False),\n",
       " (10, False),\n",
       " (10, False),\n",
       " (10, False),\n",
       " (10, False),\n",
       " (10, False),\n",
       " (10, False),\n",
       " (10, False),\n",
       " (10, False),\n",
       " (10, False),\n",
       " (10, False),\n",
       " (10, False),\n",
       " (10, False),\n",
       " (10, False),\n",
       " (10, False),\n",
       " (10, False),\n",
       " (10, False),\n",
       " (10, False),\n",
       " (10, False),\n",
       " (10, False),\n",
       " (10, False),\n",
       " (10, False),\n",
       " (10, False),\n",
       " (10, False),\n",
       " (10, False),\n",
       " (10, False),\n",
       " (10, False),\n",
       " (10, False),\n",
       " (10, False),\n",
       " (10, False),\n",
       " (10, False),\n",
       " (10, False),\n",
       " (10, False),\n",
       " (10, False),\n",
       " (10, False),\n",
       " (10, False),\n",
       " (10, False),\n",
       " (10, False),\n",
       " (10, False),\n",
       " (10, False),\n",
       " (10, False),\n",
       " (10, False),\n",
       " (10, False),\n",
       " (10, False),\n",
       " (10, False),\n",
       " (10, False),\n",
       " (10, False),\n",
       " (10, False),\n",
       " (10, False),\n",
       " (10, False),\n",
       " (10, False),\n",
       " (10, False),\n",
       " (10, False),\n",
       " (10, False),\n",
       " (10, False),\n",
       " (10, False),\n",
       " (10, False),\n",
       " (10, False),\n",
       " (10, False),\n",
       " (10, False),\n",
       " (10, False),\n",
       " (0, False),\n",
       " (0, False),\n",
       " (1, False),\n",
       " (1, False),\n",
       " (1, False),\n",
       " (1, False),\n",
       " (1, False),\n",
       " (1, False),\n",
       " (1, False),\n",
       " (1, False),\n",
       " (1, False),\n",
       " (1, False),\n",
       " (1, False),\n",
       " (1, False),\n",
       " (1, False),\n",
       " (1, False),\n",
       " (1, False),\n",
       " (1, False),\n",
       " (1, False),\n",
       " (1, False),\n",
       " (1, False),\n",
       " (1, False),\n",
       " (1, False),\n",
       " (1, False),\n",
       " (1, False),\n",
       " (1, False),\n",
       " (1, False),\n",
       " (1, False),\n",
       " (1, False),\n",
       " (1, False),\n",
       " (1, False),\n",
       " (1, False),\n",
       " (1, False),\n",
       " (1, False),\n",
       " (1, False),\n",
       " (1, False),\n",
       " (1, False),\n",
       " (1, False),\n",
       " (1, False),\n",
       " (1, False),\n",
       " (1, False),\n",
       " (1, False),\n",
       " (1, False),\n",
       " (1, False),\n",
       " (1, False),\n",
       " (1, False),\n",
       " (1, False),\n",
       " (1, False),\n",
       " (1, False),\n",
       " (1, False),\n",
       " (1, False),\n",
       " (1, False),\n",
       " (1, False),\n",
       " (1, False),\n",
       " (1, False),\n",
       " (1, False),\n",
       " (1, False),\n",
       " (1, False),\n",
       " (1, False),\n",
       " (1, False),\n",
       " (1, False),\n",
       " (1, False),\n",
       " (1, False),\n",
       " (1, False),\n",
       " (1, False),\n",
       " (1, False),\n",
       " (1, False),\n",
       " (1, False),\n",
       " (1, False),\n",
       " (1, False),\n",
       " (1, False),\n",
       " (1, False),\n",
       " (1, False),\n",
       " (1, False),\n",
       " (1, False),\n",
       " (1, False),\n",
       " (1, False),\n",
       " (1, False),\n",
       " (1, False),\n",
       " (1, False),\n",
       " (1, False),\n",
       " (1, False),\n",
       " (1, False),\n",
       " (1, False),\n",
       " (1, False),\n",
       " (1, False),\n",
       " (1, False),\n",
       " (1, False),\n",
       " (1, False),\n",
       " (1, False),\n",
       " (1, False),\n",
       " (1, False),\n",
       " (1, False),\n",
       " (1, False),\n",
       " (1, False),\n",
       " (0, False),\n",
       " (0, True),\n",
       " (0, True),\n",
       " (0, True),\n",
       " (0, True),\n",
       " (0, True),\n",
       " (0, True),\n",
       " (0, True),\n",
       " (0, True),\n",
       " (0, True),\n",
       " (0, True),\n",
       " (0, True),\n",
       " (0, True),\n",
       " (0, True),\n",
       " (0, True),\n",
       " (0, True),\n",
       " (0, True),\n",
       " (0, True),\n",
       " (0, True),\n",
       " (0, True),\n",
       " (0, True),\n",
       " (0, True),\n",
       " (0, True),\n",
       " (0, True),\n",
       " (0, True),\n",
       " (0, True),\n",
       " (0, True),\n",
       " (0, True)]"
      ]
     },
     "execution_count": 135,
     "metadata": {},
     "output_type": "execute_result"
    }
   ],
   "source": [
    "[(i,j) for i,j  in zip(dataset.source_ratings[8], dataset.source_padding_mask[8])]"
   ]
  },
  {
   "cell_type": "code",
   "execution_count": 136,
   "metadata": {},
   "outputs": [],
   "source": [
    "dataset[\"source_helpfulnesses\"] = dataset.apply(lambda row: write_indices_row(row, values_to_fill=[helpfulness(r) for r in row.input]) ,axis=1)"
   ]
  },
  {
   "cell_type": "code",
   "execution_count": 138,
   "metadata": {
    "collapsed": true
   },
   "outputs": [
    {
     "data": {
      "text/plain": [
       "array([0.        , 0.44067797, 0.44067797, 0.44067797, 0.44067797,\n",
       "       0.44067797, 0.44067797, 0.44067797, 0.44067797, 0.44067797,\n",
       "       0.44067797, 0.44067797, 0.44067797, 0.44067797, 0.44067797,\n",
       "       0.44067797, 0.44067797, 0.44067797, 0.44067797, 0.44067797,\n",
       "       0.44067797, 0.44067797, 0.44067797, 0.44067797, 0.44067797,\n",
       "       0.44067797, 0.44067797, 0.44067797, 0.44067797, 0.44067797,\n",
       "       0.44067797, 0.44067797, 0.44067797, 0.44067797, 0.44067797,\n",
       "       0.44067797, 0.44067797, 0.44067797, 0.44067797, 0.44067797,\n",
       "       0.44067797, 0.44067797, 0.44067797, 0.44067797, 0.44067797,\n",
       "       0.44067797, 0.44067797, 0.44067797, 0.44067797, 0.44067797,\n",
       "       0.44067797, 0.44067797, 0.44067797, 0.44067797, 0.44067797,\n",
       "       0.44067797, 0.44067797, 0.44067797, 0.44067797, 0.44067797,\n",
       "       0.44067797, 0.44067797, 0.44067797, 0.44067797, 0.44067797,\n",
       "       0.44067797, 0.44067797, 0.44067797, 0.44067797, 0.44067797,\n",
       "       0.44067797, 0.44067797, 0.44067797, 0.44067797, 0.44067797,\n",
       "       0.44067797, 0.44067797, 0.44067797, 0.44067797, 0.44067797,\n",
       "       0.44067797, 0.44067797, 0.44067797, 0.44067797, 0.44067797,\n",
       "       0.44067797, 0.44067797, 0.44067797, 0.44067797, 0.44067797,\n",
       "       0.44067797, 0.44067797, 0.44067797, 0.44067797, 0.44067797,\n",
       "       0.44067797, 0.44067797, 0.44067797, 0.44067797, 0.44067797,\n",
       "       0.44067797, 0.44067797, 0.44067797, 0.44067797, 0.44067797,\n",
       "       0.44067797, 0.44067797, 0.44067797, 0.44067797, 0.44067797,\n",
       "       0.44067797, 0.44067797, 0.44067797, 0.44067797, 0.44067797,\n",
       "       0.44067797, 0.44067797, 0.44067797, 0.44067797, 0.44067797,\n",
       "       0.44067797, 0.44067797, 0.44067797, 0.44067797, 0.44067797,\n",
       "       0.44067797, 0.44067797, 0.44067797, 0.44067797, 0.44067797,\n",
       "       0.44067797, 0.44067797, 0.44067797, 0.44067797, 0.44067797,\n",
       "       0.44067797, 0.44067797, 0.44067797, 0.44067797, 0.44067797,\n",
       "       0.44067797, 0.44067797, 0.44067797, 0.44067797, 0.44067797,\n",
       "       0.44067797, 0.44067797, 0.44067797, 0.44067797, 0.44067797,\n",
       "       0.44067797, 0.44067797, 0.44067797, 0.44067797, 0.44067797,\n",
       "       0.44067797, 0.44067797, 0.44067797, 0.44067797, 0.44067797,\n",
       "       0.44067797, 0.44067797, 0.44067797, 0.44067797, 0.44067797,\n",
       "       0.44067797, 0.44067797, 0.44067797, 0.44067797, 0.44067797,\n",
       "       0.44067797, 0.44067797, 0.44067797, 0.44067797, 0.44067797,\n",
       "       0.44067797, 0.44067797, 0.44067797, 0.44067797, 0.44067797,\n",
       "       0.44067797, 0.44067797, 0.44067797, 0.44067797, 0.44067797,\n",
       "       0.44067797, 0.44067797, 0.44067797, 0.44067797, 0.44067797,\n",
       "       0.44067797, 0.44067797, 0.44067797, 0.44067797, 0.44067797,\n",
       "       0.44067797, 0.44067797, 0.44067797, 0.44067797, 0.44067797,\n",
       "       0.44067797, 0.44067797, 0.44067797, 0.44067797, 0.44067797,\n",
       "       0.        , 0.        , 0.41860465, 0.41860465, 0.41860465,\n",
       "       0.41860465, 0.41860465, 0.41860465, 0.41860465, 0.41860465,\n",
       "       0.41860465, 0.41860465, 0.41860465, 0.41860465, 0.41860465,\n",
       "       0.41860465, 0.41860465, 0.41860465, 0.41860465, 0.41860465,\n",
       "       0.41860465, 0.41860465, 0.41860465, 0.41860465, 0.41860465,\n",
       "       0.41860465, 0.41860465, 0.41860465, 0.41860465, 0.41860465,\n",
       "       0.41860465, 0.41860465, 0.41860465, 0.41860465, 0.41860465,\n",
       "       0.41860465, 0.41860465, 0.41860465, 0.41860465, 0.41860465,\n",
       "       0.41860465, 0.41860465, 0.41860465, 0.41860465, 0.41860465,\n",
       "       0.41860465, 0.41860465, 0.41860465, 0.41860465, 0.41860465,\n",
       "       0.41860465, 0.41860465, 0.41860465, 0.41860465, 0.41860465,\n",
       "       0.41860465, 0.41860465, 0.41860465, 0.41860465, 0.41860465,\n",
       "       0.41860465, 0.41860465, 0.41860465, 0.41860465, 0.41860465,\n",
       "       0.41860465, 0.41860465, 0.41860465, 0.41860465, 0.41860465,\n",
       "       0.41860465, 0.41860465, 0.41860465, 0.41860465, 0.41860465,\n",
       "       0.41860465, 0.41860465, 0.41860465, 0.41860465, 0.41860465,\n",
       "       0.41860465, 0.41860465, 0.41860465, 0.41860465, 0.41860465,\n",
       "       0.41860465, 0.41860465, 0.41860465, 0.41860465, 0.41860465,\n",
       "       0.41860465, 0.41860465, 0.41860465, 0.41860465, 0.41860465,\n",
       "       0.41860465, 0.41860465, 0.41860465, 0.41860465, 0.41860465,\n",
       "       0.41860465, 0.41860465, 0.41860465, 0.41860465, 0.41860465,\n",
       "       0.41860465, 0.41860465, 0.41860465, 0.41860465, 0.41860465,\n",
       "       0.41860465, 0.41860465, 0.41860465, 0.41860465, 0.41860465,\n",
       "       0.41860465, 0.41860465, 0.41860465, 0.41860465, 0.41860465,\n",
       "       0.41860465, 0.41860465, 0.41860465, 0.41860465, 0.41860465,\n",
       "       0.41860465, 0.41860465, 0.41860465, 0.41860465, 0.41860465,\n",
       "       0.41860465, 0.41860465, 0.41860465, 0.41860465, 0.41860465,\n",
       "       0.41860465, 0.41860465, 0.41860465, 0.41860465, 0.41860465,\n",
       "       0.41860465, 0.41860465, 0.41860465, 0.41860465, 0.41860465,\n",
       "       0.41860465, 0.41860465, 0.41860465, 0.41860465, 0.41860465,\n",
       "       0.41860465, 0.41860465, 0.41860465, 0.41860465, 0.41860465,\n",
       "       0.41860465, 0.41860465, 0.41860465, 0.41860465, 0.41860465,\n",
       "       0.41860465, 0.41860465, 0.41860465, 0.41860465, 0.41860465,\n",
       "       0.41860465, 0.41860465, 0.41860465, 0.41860465, 0.41860465,\n",
       "       0.41860465, 0.41860465, 0.41860465, 0.41860465, 0.41860465,\n",
       "       0.41860465, 0.41860465, 0.41860465, 0.41860465, 0.41860465,\n",
       "       0.41860465, 0.41860465, 0.41860465, 0.41860465, 0.        ,\n",
       "       0.        , 0.45833333, 0.45833333, 0.45833333, 0.45833333,\n",
       "       0.45833333, 0.45833333, 0.45833333, 0.45833333, 0.45833333,\n",
       "       0.45833333, 0.45833333, 0.45833333, 0.45833333, 0.45833333,\n",
       "       0.45833333, 0.45833333, 0.45833333, 0.45833333, 0.45833333,\n",
       "       0.45833333, 0.45833333, 0.45833333, 0.45833333, 0.45833333,\n",
       "       0.45833333, 0.45833333, 0.45833333, 0.45833333, 0.45833333,\n",
       "       0.45833333, 0.45833333, 0.45833333, 0.45833333, 0.45833333,\n",
       "       0.45833333, 0.45833333, 0.45833333, 0.45833333, 0.45833333,\n",
       "       0.45833333, 0.45833333, 0.45833333, 0.45833333, 0.45833333,\n",
       "       0.45833333, 0.45833333, 0.45833333, 0.45833333, 0.45833333,\n",
       "       0.45833333, 0.45833333, 0.45833333, 0.45833333, 0.45833333,\n",
       "       0.45833333, 0.45833333, 0.45833333, 0.45833333, 0.45833333,\n",
       "       0.45833333, 0.45833333, 0.45833333, 0.45833333, 0.45833333,\n",
       "       0.45833333, 0.45833333, 0.45833333, 0.45833333, 0.45833333,\n",
       "       0.45833333, 0.45833333, 0.45833333, 0.45833333, 0.45833333,\n",
       "       0.45833333, 0.45833333, 0.45833333, 0.45833333, 0.45833333,\n",
       "       0.45833333, 0.45833333, 0.45833333, 0.45833333, 0.45833333,\n",
       "       0.45833333, 0.45833333, 0.45833333, 0.45833333, 0.45833333,\n",
       "       0.45833333, 0.45833333, 0.45833333, 0.45833333, 0.        ,\n",
       "       0.        , 0.        , 0.        , 0.        , 0.        ,\n",
       "       0.        , 0.        , 0.        , 0.        , 0.        ,\n",
       "       0.        , 0.        , 0.        , 0.        , 0.        ,\n",
       "       0.        , 0.        , 0.        , 0.        , 0.        ,\n",
       "       0.        , 0.        , 0.        , 0.        , 0.        ,\n",
       "       0.        , 0.        ])"
      ]
     },
     "execution_count": 138,
     "metadata": {},
     "output_type": "execute_result"
    }
   ],
   "source": [
    "dataset.source_helpfulnesses[8]"
   ]
  },
  {
   "cell_type": "code",
   "execution_count": null,
   "metadata": {},
   "outputs": [],
   "source": []
  },
  {
   "cell_type": "code",
   "execution_count": 139,
   "metadata": {},
   "outputs": [],
   "source": [
    "dataset[\"helpfulness_difference_vector\"] = dataset.apply(lambda row: write_indices_row(row, [row.helpfulness_difference] * 3), axis=1)\n",
    "dataset[\"rating_difference_vector\"] = dataset.apply(lambda row: write_indices_row(row, [row.rating_difference] * 3), axis=1)\n",
    "dataset[\"length_difference_vector\"] = dataset.apply(lambda row: write_indices_row(row, [row.length_difference] * 3), axis=1)"
   ]
  },
  {
   "cell_type": "code",
   "execution_count": 140,
   "metadata": {
    "collapsed": true
   },
   "outputs": [
    {
     "data": {
      "text/plain": [
       "array([0.        , 0.02005394, 0.02005394, 0.02005394, 0.02005394,\n",
       "       0.02005394, 0.02005394, 0.02005394, 0.02005394, 0.02005394,\n",
       "       0.02005394, 0.02005394, 0.02005394, 0.02005394, 0.02005394,\n",
       "       0.02005394, 0.02005394, 0.02005394, 0.02005394, 0.02005394,\n",
       "       0.02005394, 0.02005394, 0.02005394, 0.02005394, 0.02005394,\n",
       "       0.02005394, 0.02005394, 0.02005394, 0.02005394, 0.02005394,\n",
       "       0.02005394, 0.02005394, 0.02005394, 0.02005394, 0.02005394,\n",
       "       0.02005394, 0.02005394, 0.02005394, 0.02005394, 0.02005394,\n",
       "       0.02005394, 0.02005394, 0.02005394, 0.02005394, 0.02005394,\n",
       "       0.02005394, 0.02005394, 0.02005394, 0.02005394, 0.02005394,\n",
       "       0.02005394, 0.02005394, 0.02005394, 0.02005394, 0.02005394,\n",
       "       0.02005394, 0.02005394, 0.02005394, 0.02005394, 0.02005394,\n",
       "       0.02005394, 0.02005394, 0.02005394, 0.02005394, 0.02005394,\n",
       "       0.02005394, 0.02005394, 0.02005394, 0.02005394, 0.02005394,\n",
       "       0.02005394, 0.02005394, 0.02005394, 0.02005394, 0.02005394,\n",
       "       0.02005394, 0.02005394, 0.02005394, 0.02005394, 0.02005394,\n",
       "       0.02005394, 0.02005394, 0.02005394, 0.02005394, 0.02005394,\n",
       "       0.02005394, 0.02005394, 0.02005394, 0.02005394, 0.02005394,\n",
       "       0.02005394, 0.02005394, 0.02005394, 0.02005394, 0.02005394,\n",
       "       0.02005394, 0.02005394, 0.02005394, 0.02005394, 0.02005394,\n",
       "       0.02005394, 0.02005394, 0.02005394, 0.02005394, 0.02005394,\n",
       "       0.02005394, 0.02005394, 0.02005394, 0.02005394, 0.02005394,\n",
       "       0.02005394, 0.02005394, 0.02005394, 0.02005394, 0.02005394,\n",
       "       0.02005394, 0.02005394, 0.02005394, 0.02005394, 0.02005394,\n",
       "       0.02005394, 0.02005394, 0.02005394, 0.02005394, 0.02005394,\n",
       "       0.02005394, 0.02005394, 0.02005394, 0.02005394, 0.02005394,\n",
       "       0.02005394, 0.02005394, 0.02005394, 0.02005394, 0.02005394,\n",
       "       0.02005394, 0.02005394, 0.02005394, 0.02005394, 0.02005394,\n",
       "       0.02005394, 0.02005394, 0.02005394, 0.02005394, 0.02005394,\n",
       "       0.02005394, 0.02005394, 0.02005394, 0.02005394, 0.02005394,\n",
       "       0.02005394, 0.02005394, 0.02005394, 0.02005394, 0.02005394,\n",
       "       0.02005394, 0.02005394, 0.02005394, 0.02005394, 0.02005394,\n",
       "       0.02005394, 0.02005394, 0.02005394, 0.02005394, 0.02005394,\n",
       "       0.02005394, 0.02005394, 0.02005394, 0.02005394, 0.02005394,\n",
       "       0.02005394, 0.02005394, 0.02005394, 0.02005394, 0.02005394,\n",
       "       0.02005394, 0.02005394, 0.02005394, 0.02005394, 0.02005394,\n",
       "       0.02005394, 0.02005394, 0.02005394, 0.02005394, 0.02005394,\n",
       "       0.02005394, 0.02005394, 0.02005394, 0.02005394, 0.02005394,\n",
       "       0.02005394, 0.02005394, 0.02005394, 0.02005394, 0.02005394,\n",
       "       0.02005394, 0.02005394, 0.02005394, 0.02005394, 0.02005394,\n",
       "       0.02005394, 0.02005394, 0.02005394, 0.02005394, 0.02005394,\n",
       "       0.        , 0.        , 0.02005394, 0.02005394, 0.02005394,\n",
       "       0.02005394, 0.02005394, 0.02005394, 0.02005394, 0.02005394,\n",
       "       0.02005394, 0.02005394, 0.02005394, 0.02005394, 0.02005394,\n",
       "       0.02005394, 0.02005394, 0.02005394, 0.02005394, 0.02005394,\n",
       "       0.02005394, 0.02005394, 0.02005394, 0.02005394, 0.02005394,\n",
       "       0.02005394, 0.02005394, 0.02005394, 0.02005394, 0.02005394,\n",
       "       0.02005394, 0.02005394, 0.02005394, 0.02005394, 0.02005394,\n",
       "       0.02005394, 0.02005394, 0.02005394, 0.02005394, 0.02005394,\n",
       "       0.02005394, 0.02005394, 0.02005394, 0.02005394, 0.02005394,\n",
       "       0.02005394, 0.02005394, 0.02005394, 0.02005394, 0.02005394,\n",
       "       0.02005394, 0.02005394, 0.02005394, 0.02005394, 0.02005394,\n",
       "       0.02005394, 0.02005394, 0.02005394, 0.02005394, 0.02005394,\n",
       "       0.02005394, 0.02005394, 0.02005394, 0.02005394, 0.02005394,\n",
       "       0.02005394, 0.02005394, 0.02005394, 0.02005394, 0.02005394,\n",
       "       0.02005394, 0.02005394, 0.02005394, 0.02005394, 0.02005394,\n",
       "       0.02005394, 0.02005394, 0.02005394, 0.02005394, 0.02005394,\n",
       "       0.02005394, 0.02005394, 0.02005394, 0.02005394, 0.02005394,\n",
       "       0.02005394, 0.02005394, 0.02005394, 0.02005394, 0.02005394,\n",
       "       0.02005394, 0.02005394, 0.02005394, 0.02005394, 0.02005394,\n",
       "       0.02005394, 0.02005394, 0.02005394, 0.02005394, 0.02005394,\n",
       "       0.02005394, 0.02005394, 0.02005394, 0.02005394, 0.02005394,\n",
       "       0.02005394, 0.02005394, 0.02005394, 0.02005394, 0.02005394,\n",
       "       0.02005394, 0.02005394, 0.02005394, 0.02005394, 0.02005394,\n",
       "       0.02005394, 0.02005394, 0.02005394, 0.02005394, 0.02005394,\n",
       "       0.02005394, 0.02005394, 0.02005394, 0.02005394, 0.02005394,\n",
       "       0.02005394, 0.02005394, 0.02005394, 0.02005394, 0.02005394,\n",
       "       0.02005394, 0.02005394, 0.02005394, 0.02005394, 0.02005394,\n",
       "       0.02005394, 0.02005394, 0.02005394, 0.02005394, 0.02005394,\n",
       "       0.02005394, 0.02005394, 0.02005394, 0.02005394, 0.02005394,\n",
       "       0.02005394, 0.02005394, 0.02005394, 0.02005394, 0.02005394,\n",
       "       0.02005394, 0.02005394, 0.02005394, 0.02005394, 0.02005394,\n",
       "       0.02005394, 0.02005394, 0.02005394, 0.02005394, 0.02005394,\n",
       "       0.02005394, 0.02005394, 0.02005394, 0.02005394, 0.02005394,\n",
       "       0.02005394, 0.02005394, 0.02005394, 0.02005394, 0.02005394,\n",
       "       0.02005394, 0.02005394, 0.02005394, 0.02005394, 0.02005394,\n",
       "       0.02005394, 0.02005394, 0.02005394, 0.02005394, 0.02005394,\n",
       "       0.02005394, 0.02005394, 0.02005394, 0.02005394, 0.        ,\n",
       "       0.        , 0.02005394, 0.02005394, 0.02005394, 0.02005394,\n",
       "       0.02005394, 0.02005394, 0.02005394, 0.02005394, 0.02005394,\n",
       "       0.02005394, 0.02005394, 0.02005394, 0.02005394, 0.02005394,\n",
       "       0.02005394, 0.02005394, 0.02005394, 0.02005394, 0.02005394,\n",
       "       0.02005394, 0.02005394, 0.02005394, 0.02005394, 0.02005394,\n",
       "       0.02005394, 0.02005394, 0.02005394, 0.02005394, 0.02005394,\n",
       "       0.02005394, 0.02005394, 0.02005394, 0.02005394, 0.02005394,\n",
       "       0.02005394, 0.02005394, 0.02005394, 0.02005394, 0.02005394,\n",
       "       0.02005394, 0.02005394, 0.02005394, 0.02005394, 0.02005394,\n",
       "       0.02005394, 0.02005394, 0.02005394, 0.02005394, 0.02005394,\n",
       "       0.02005394, 0.02005394, 0.02005394, 0.02005394, 0.02005394,\n",
       "       0.02005394, 0.02005394, 0.02005394, 0.02005394, 0.02005394,\n",
       "       0.02005394, 0.02005394, 0.02005394, 0.02005394, 0.02005394,\n",
       "       0.02005394, 0.02005394, 0.02005394, 0.02005394, 0.02005394,\n",
       "       0.02005394, 0.02005394, 0.02005394, 0.02005394, 0.02005394,\n",
       "       0.02005394, 0.02005394, 0.02005394, 0.02005394, 0.02005394,\n",
       "       0.02005394, 0.02005394, 0.02005394, 0.02005394, 0.02005394,\n",
       "       0.02005394, 0.02005394, 0.02005394, 0.02005394, 0.02005394,\n",
       "       0.02005394, 0.02005394, 0.02005394, 0.02005394, 0.        ,\n",
       "       0.        , 0.        , 0.        , 0.        , 0.        ,\n",
       "       0.        , 0.        , 0.        , 0.        , 0.        ,\n",
       "       0.        , 0.        , 0.        , 0.        , 0.        ,\n",
       "       0.        , 0.        , 0.        , 0.        , 0.        ,\n",
       "       0.        , 0.        , 0.        , 0.        , 0.        ,\n",
       "       0.        , 0.        ])"
      ]
     },
     "execution_count": 140,
     "metadata": {},
     "output_type": "execute_result"
    }
   ],
   "source": [
    "dataset.helpfulness_difference_vector[8]"
   ]
  },
  {
   "cell_type": "code",
   "execution_count": 141,
   "metadata": {
    "collapsed": true
   },
   "outputs": [
    {
     "data": {
      "text/plain": [
       "array([ 0., -3., -3., -3., -3., -3., -3., -3., -3., -3., -3., -3., -3.,\n",
       "       -3., -3., -3., -3., -3., -3., -3., -3., -3., -3., -3., -3., -3.,\n",
       "       -3., -3., -3., -3., -3., -3., -3., -3., -3., -3., -3., -3., -3.,\n",
       "       -3., -3., -3., -3., -3., -3., -3., -3., -3., -3., -3., -3., -3.,\n",
       "       -3., -3., -3., -3., -3., -3., -3., -3., -3., -3., -3., -3., -3.,\n",
       "       -3., -3., -3., -3., -3., -3., -3., -3., -3., -3., -3., -3., -3.,\n",
       "       -3., -3., -3., -3., -3., -3., -3., -3., -3., -3., -3., -3., -3.,\n",
       "       -3., -3., -3., -3., -3., -3., -3., -3., -3., -3., -3., -3., -3.,\n",
       "       -3., -3., -3., -3., -3., -3., -3., -3., -3., -3., -3., -3., -3.,\n",
       "       -3., -3., -3., -3., -3., -3., -3., -3., -3., -3., -3., -3., -3.,\n",
       "       -3., -3., -3., -3., -3., -3., -3., -3., -3., -3., -3., -3., -3.,\n",
       "       -3., -3., -3., -3., -3., -3., -3., -3., -3., -3., -3., -3., -3.,\n",
       "       -3., -3., -3., -3., -3., -3., -3., -3., -3., -3., -3., -3., -3.,\n",
       "       -3., -3., -3., -3., -3., -3., -3., -3., -3., -3., -3., -3., -3.,\n",
       "       -3., -3., -3., -3., -3., -3., -3., -3., -3., -3., -3., -3., -3.,\n",
       "       -3., -3., -3., -3., -3., -3., -3., -3., -3., -3.,  0.,  0., -3.,\n",
       "       -3., -3., -3., -3., -3., -3., -3., -3., -3., -3., -3., -3., -3.,\n",
       "       -3., -3., -3., -3., -3., -3., -3., -3., -3., -3., -3., -3., -3.,\n",
       "       -3., -3., -3., -3., -3., -3., -3., -3., -3., -3., -3., -3., -3.,\n",
       "       -3., -3., -3., -3., -3., -3., -3., -3., -3., -3., -3., -3., -3.,\n",
       "       -3., -3., -3., -3., -3., -3., -3., -3., -3., -3., -3., -3., -3.,\n",
       "       -3., -3., -3., -3., -3., -3., -3., -3., -3., -3., -3., -3., -3.,\n",
       "       -3., -3., -3., -3., -3., -3., -3., -3., -3., -3., -3., -3., -3.,\n",
       "       -3., -3., -3., -3., -3., -3., -3., -3., -3., -3., -3., -3., -3.,\n",
       "       -3., -3., -3., -3., -3., -3., -3., -3., -3., -3., -3., -3., -3.,\n",
       "       -3., -3., -3., -3., -3., -3., -3., -3., -3., -3., -3., -3., -3.,\n",
       "       -3., -3., -3., -3., -3., -3., -3., -3., -3., -3., -3., -3., -3.,\n",
       "       -3., -3., -3., -3., -3., -3., -3., -3., -3., -3., -3., -3., -3.,\n",
       "       -3., -3., -3., -3., -3., -3., -3., -3., -3., -3., -3., -3., -3.,\n",
       "       -3., -3., -3., -3., -3., -3., -3., -3., -3., -3., -3., -3.,  0.,\n",
       "        0., -3., -3., -3., -3., -3., -3., -3., -3., -3., -3., -3., -3.,\n",
       "       -3., -3., -3., -3., -3., -3., -3., -3., -3., -3., -3., -3., -3.,\n",
       "       -3., -3., -3., -3., -3., -3., -3., -3., -3., -3., -3., -3., -3.,\n",
       "       -3., -3., -3., -3., -3., -3., -3., -3., -3., -3., -3., -3., -3.,\n",
       "       -3., -3., -3., -3., -3., -3., -3., -3., -3., -3., -3., -3., -3.,\n",
       "       -3., -3., -3., -3., -3., -3., -3., -3., -3., -3., -3., -3., -3.,\n",
       "       -3., -3., -3., -3., -3., -3., -3., -3., -3., -3., -3., -3., -3.,\n",
       "       -3., -3., -3.,  0.,  0.,  0.,  0.,  0.,  0.,  0.,  0.,  0.,  0.,\n",
       "        0.,  0.,  0.,  0.,  0.,  0.,  0.,  0.,  0.,  0.,  0.,  0.,  0.,\n",
       "        0.,  0.,  0.,  0.,  0.])"
      ]
     },
     "execution_count": 141,
     "metadata": {},
     "output_type": "execute_result"
    }
   ],
   "source": [
    "dataset.rating_difference_vector[8]"
   ]
  },
  {
   "cell_type": "code",
   "execution_count": 142,
   "metadata": {
    "collapsed": true
   },
   "outputs": [
    {
     "data": {
      "text/plain": [
       "array([  0.        , -63.33333333, -63.33333333, -63.33333333,\n",
       "       -63.33333333, -63.33333333, -63.33333333, -63.33333333,\n",
       "       -63.33333333, -63.33333333, -63.33333333, -63.33333333,\n",
       "       -63.33333333, -63.33333333, -63.33333333, -63.33333333,\n",
       "       -63.33333333, -63.33333333, -63.33333333, -63.33333333,\n",
       "       -63.33333333, -63.33333333, -63.33333333, -63.33333333,\n",
       "       -63.33333333, -63.33333333, -63.33333333, -63.33333333,\n",
       "       -63.33333333, -63.33333333, -63.33333333, -63.33333333,\n",
       "       -63.33333333, -63.33333333, -63.33333333, -63.33333333,\n",
       "       -63.33333333, -63.33333333, -63.33333333, -63.33333333,\n",
       "       -63.33333333, -63.33333333, -63.33333333, -63.33333333,\n",
       "       -63.33333333, -63.33333333, -63.33333333, -63.33333333,\n",
       "       -63.33333333, -63.33333333, -63.33333333, -63.33333333,\n",
       "       -63.33333333, -63.33333333, -63.33333333, -63.33333333,\n",
       "       -63.33333333, -63.33333333, -63.33333333, -63.33333333,\n",
       "       -63.33333333, -63.33333333, -63.33333333, -63.33333333,\n",
       "       -63.33333333, -63.33333333, -63.33333333, -63.33333333,\n",
       "       -63.33333333, -63.33333333, -63.33333333, -63.33333333,\n",
       "       -63.33333333, -63.33333333, -63.33333333, -63.33333333,\n",
       "       -63.33333333, -63.33333333, -63.33333333, -63.33333333,\n",
       "       -63.33333333, -63.33333333, -63.33333333, -63.33333333,\n",
       "       -63.33333333, -63.33333333, -63.33333333, -63.33333333,\n",
       "       -63.33333333, -63.33333333, -63.33333333, -63.33333333,\n",
       "       -63.33333333, -63.33333333, -63.33333333, -63.33333333,\n",
       "       -63.33333333, -63.33333333, -63.33333333, -63.33333333,\n",
       "       -63.33333333, -63.33333333, -63.33333333, -63.33333333,\n",
       "       -63.33333333, -63.33333333, -63.33333333, -63.33333333,\n",
       "       -63.33333333, -63.33333333, -63.33333333, -63.33333333,\n",
       "       -63.33333333, -63.33333333, -63.33333333, -63.33333333,\n",
       "       -63.33333333, -63.33333333, -63.33333333, -63.33333333,\n",
       "       -63.33333333, -63.33333333, -63.33333333, -63.33333333,\n",
       "       -63.33333333, -63.33333333, -63.33333333, -63.33333333,\n",
       "       -63.33333333, -63.33333333, -63.33333333, -63.33333333,\n",
       "       -63.33333333, -63.33333333, -63.33333333, -63.33333333,\n",
       "       -63.33333333, -63.33333333, -63.33333333, -63.33333333,\n",
       "       -63.33333333, -63.33333333, -63.33333333, -63.33333333,\n",
       "       -63.33333333, -63.33333333, -63.33333333, -63.33333333,\n",
       "       -63.33333333, -63.33333333, -63.33333333, -63.33333333,\n",
       "       -63.33333333, -63.33333333, -63.33333333, -63.33333333,\n",
       "       -63.33333333, -63.33333333, -63.33333333, -63.33333333,\n",
       "       -63.33333333, -63.33333333, -63.33333333, -63.33333333,\n",
       "       -63.33333333, -63.33333333, -63.33333333, -63.33333333,\n",
       "       -63.33333333, -63.33333333, -63.33333333, -63.33333333,\n",
       "       -63.33333333, -63.33333333, -63.33333333, -63.33333333,\n",
       "       -63.33333333, -63.33333333, -63.33333333, -63.33333333,\n",
       "       -63.33333333, -63.33333333, -63.33333333, -63.33333333,\n",
       "       -63.33333333, -63.33333333, -63.33333333, -63.33333333,\n",
       "       -63.33333333, -63.33333333, -63.33333333, -63.33333333,\n",
       "       -63.33333333, -63.33333333, -63.33333333, -63.33333333,\n",
       "       -63.33333333, -63.33333333, -63.33333333, -63.33333333,\n",
       "       -63.33333333, -63.33333333, -63.33333333, -63.33333333,\n",
       "       -63.33333333,   0.        ,   0.        , -63.33333333,\n",
       "       -63.33333333, -63.33333333, -63.33333333, -63.33333333,\n",
       "       -63.33333333, -63.33333333, -63.33333333, -63.33333333,\n",
       "       -63.33333333, -63.33333333, -63.33333333, -63.33333333,\n",
       "       -63.33333333, -63.33333333, -63.33333333, -63.33333333,\n",
       "       -63.33333333, -63.33333333, -63.33333333, -63.33333333,\n",
       "       -63.33333333, -63.33333333, -63.33333333, -63.33333333,\n",
       "       -63.33333333, -63.33333333, -63.33333333, -63.33333333,\n",
       "       -63.33333333, -63.33333333, -63.33333333, -63.33333333,\n",
       "       -63.33333333, -63.33333333, -63.33333333, -63.33333333,\n",
       "       -63.33333333, -63.33333333, -63.33333333, -63.33333333,\n",
       "       -63.33333333, -63.33333333, -63.33333333, -63.33333333,\n",
       "       -63.33333333, -63.33333333, -63.33333333, -63.33333333,\n",
       "       -63.33333333, -63.33333333, -63.33333333, -63.33333333,\n",
       "       -63.33333333, -63.33333333, -63.33333333, -63.33333333,\n",
       "       -63.33333333, -63.33333333, -63.33333333, -63.33333333,\n",
       "       -63.33333333, -63.33333333, -63.33333333, -63.33333333,\n",
       "       -63.33333333, -63.33333333, -63.33333333, -63.33333333,\n",
       "       -63.33333333, -63.33333333, -63.33333333, -63.33333333,\n",
       "       -63.33333333, -63.33333333, -63.33333333, -63.33333333,\n",
       "       -63.33333333, -63.33333333, -63.33333333, -63.33333333,\n",
       "       -63.33333333, -63.33333333, -63.33333333, -63.33333333,\n",
       "       -63.33333333, -63.33333333, -63.33333333, -63.33333333,\n",
       "       -63.33333333, -63.33333333, -63.33333333, -63.33333333,\n",
       "       -63.33333333, -63.33333333, -63.33333333, -63.33333333,\n",
       "       -63.33333333, -63.33333333, -63.33333333, -63.33333333,\n",
       "       -63.33333333, -63.33333333, -63.33333333, -63.33333333,\n",
       "       -63.33333333, -63.33333333, -63.33333333, -63.33333333,\n",
       "       -63.33333333, -63.33333333, -63.33333333, -63.33333333,\n",
       "       -63.33333333, -63.33333333, -63.33333333, -63.33333333,\n",
       "       -63.33333333, -63.33333333, -63.33333333, -63.33333333,\n",
       "       -63.33333333, -63.33333333, -63.33333333, -63.33333333,\n",
       "       -63.33333333, -63.33333333, -63.33333333, -63.33333333,\n",
       "       -63.33333333, -63.33333333, -63.33333333, -63.33333333,\n",
       "       -63.33333333, -63.33333333, -63.33333333, -63.33333333,\n",
       "       -63.33333333, -63.33333333, -63.33333333, -63.33333333,\n",
       "       -63.33333333, -63.33333333, -63.33333333, -63.33333333,\n",
       "       -63.33333333, -63.33333333, -63.33333333, -63.33333333,\n",
       "       -63.33333333, -63.33333333, -63.33333333, -63.33333333,\n",
       "       -63.33333333, -63.33333333, -63.33333333, -63.33333333,\n",
       "       -63.33333333, -63.33333333, -63.33333333, -63.33333333,\n",
       "       -63.33333333, -63.33333333, -63.33333333, -63.33333333,\n",
       "       -63.33333333, -63.33333333, -63.33333333, -63.33333333,\n",
       "       -63.33333333, -63.33333333, -63.33333333, -63.33333333,\n",
       "       -63.33333333, -63.33333333, -63.33333333, -63.33333333,\n",
       "       -63.33333333, -63.33333333, -63.33333333, -63.33333333,\n",
       "       -63.33333333,   0.        ,   0.        , -63.33333333,\n",
       "       -63.33333333, -63.33333333, -63.33333333, -63.33333333,\n",
       "       -63.33333333, -63.33333333, -63.33333333, -63.33333333,\n",
       "       -63.33333333, -63.33333333, -63.33333333, -63.33333333,\n",
       "       -63.33333333, -63.33333333, -63.33333333, -63.33333333,\n",
       "       -63.33333333, -63.33333333, -63.33333333, -63.33333333,\n",
       "       -63.33333333, -63.33333333, -63.33333333, -63.33333333,\n",
       "       -63.33333333, -63.33333333, -63.33333333, -63.33333333,\n",
       "       -63.33333333, -63.33333333, -63.33333333, -63.33333333,\n",
       "       -63.33333333, -63.33333333, -63.33333333, -63.33333333,\n",
       "       -63.33333333, -63.33333333, -63.33333333, -63.33333333,\n",
       "       -63.33333333, -63.33333333, -63.33333333, -63.33333333,\n",
       "       -63.33333333, -63.33333333, -63.33333333, -63.33333333,\n",
       "       -63.33333333, -63.33333333, -63.33333333, -63.33333333,\n",
       "       -63.33333333, -63.33333333, -63.33333333, -63.33333333,\n",
       "       -63.33333333, -63.33333333, -63.33333333, -63.33333333,\n",
       "       -63.33333333, -63.33333333, -63.33333333, -63.33333333,\n",
       "       -63.33333333, -63.33333333, -63.33333333, -63.33333333,\n",
       "       -63.33333333, -63.33333333, -63.33333333, -63.33333333,\n",
       "       -63.33333333, -63.33333333, -63.33333333, -63.33333333,\n",
       "       -63.33333333, -63.33333333, -63.33333333, -63.33333333,\n",
       "       -63.33333333, -63.33333333, -63.33333333, -63.33333333,\n",
       "       -63.33333333, -63.33333333, -63.33333333, -63.33333333,\n",
       "       -63.33333333, -63.33333333, -63.33333333, -63.33333333,\n",
       "         0.        ,   0.        ,   0.        ,   0.        ,\n",
       "         0.        ,   0.        ,   0.        ,   0.        ,\n",
       "         0.        ,   0.        ,   0.        ,   0.        ,\n",
       "         0.        ,   0.        ,   0.        ,   0.        ,\n",
       "         0.        ,   0.        ,   0.        ,   0.        ,\n",
       "         0.        ,   0.        ,   0.        ,   0.        ,\n",
       "         0.        ,   0.        ,   0.        ,   0.        ])"
      ]
     },
     "execution_count": 142,
     "metadata": {},
     "output_type": "execute_result"
    }
   ],
   "source": [
    "dataset.length_difference_vector[8]"
   ]
  },
  {
   "cell_type": "code",
   "execution_count": 144,
   "metadata": {},
   "outputs": [
    {
     "data": {
      "text/plain": [
       "array([    1,  8304,   796,   544, 19301,  2279,    38, 11923,   530,\n",
       "         792,   498,  3415,   654,  1454,  1063,    17,   519,   488,\n",
       "         548,   505,   633,   562,   487,  2743,   563,   724,   792,\n",
       "          19,   591,   976,   562, 14374,   500,   487,  2024,   688,\n",
       "         505,  3128,  9197,    19,  3165,   487,   840,    17,   497,\n",
       "         488,   486,   547,   532,    76,   497,   682,  2583,  1706,\n",
       "          19,    38,  1110,   607,   532,   605,  1381,   563,  2387,\n",
       "        1235,    19,     3,     3,     3,     3,     3,     3,     3,\n",
       "           3,     3,     3,     3,     3,     3,     3,     3,     3,\n",
       "           3,     3,     3,     3,     3,     3,     3,     3,     3,\n",
       "           3,     3,     3,     3,     3,     3,     3,     3,     3,\n",
       "           3,     3,     3,     3,     3,     3,     3,     3,     3,\n",
       "           3,     3,     3,     3,     3,     3,     3,     3,     3,\n",
       "           3,     3,     3,     3,     3,     3,     3,     3,     3,\n",
       "           3,     3,     3,     3,     3,     3,     3,     3,     3,\n",
       "           3,     3,     3,     3,     3,     3,     3,     3,     3,\n",
       "           3,     3,     3,     3,     3,     3,     3,     3,     3,\n",
       "           3,     3,     3,     3,     3,     3,     3,     3,     3,\n",
       "           3,     3,     3,     3,     3,     3,     3,     3,     3,\n",
       "           3,     3,     3,     3,     3,     3,     3,     3,     3,\n",
       "           3,     3,     3,     3,     3,     3,     3,     3,     3,\n",
       "           3,     3,     3,     3,     3,     3,     3,     3,     3,\n",
       "           3,     3,     3,     3,     3,     3,     3,     3,     3,\n",
       "           3,     3,     3,     3,     3,     3,     3,     3,     3,\n",
       "           3,     3,     3,     3,     3,     3,     3,     3,     3,\n",
       "           3,     3,     3,     3,     3,     3,     3,     3,     3,\n",
       "           3,     3,     3,     3,     3,     3,     3,     3,     3,\n",
       "           3,     3,     3,     3,     3,     3,     3,     3,     3,\n",
       "           3,     3,     3,     3])"
      ]
     },
     "execution_count": 144,
     "metadata": {},
     "output_type": "execute_result"
    }
   ],
   "source": [
    "dataset.target_numericalized_input_padded[0]"
   ]
  },
  {
   "cell_type": "code",
   "execution_count": 145,
   "metadata": {},
   "outputs": [
    {
     "data": {
      "text/html": [
       "<div>\n",
       "<style scoped>\n",
       "    .dataframe tbody tr th:only-of-type {\n",
       "        vertical-align: middle;\n",
       "    }\n",
       "\n",
       "    .dataframe tbody tr th {\n",
       "        vertical-align: top;\n",
       "    }\n",
       "\n",
       "    .dataframe thead th {\n",
       "        text-align: right;\n",
       "    }\n",
       "</style>\n",
       "<table border=\"1\" class=\"dataframe\">\n",
       "  <thead>\n",
       "    <tr style=\"text-align: right;\">\n",
       "      <th></th>\n",
       "      <th>id</th>\n",
       "      <th>input</th>\n",
       "      <th>output</th>\n",
       "      <th>helpfulness_difference</th>\n",
       "      <th>rating_difference</th>\n",
       "      <th>length_difference</th>\n",
       "      <th>target_string</th>\n",
       "      <th>source_string</th>\n",
       "      <th>source_numericalized</th>\n",
       "      <th>target_numericalized</th>\n",
       "      <th>...</th>\n",
       "      <th>source_padding_token_first_index</th>\n",
       "      <th>target_input_padding_token_first_index</th>\n",
       "      <th>source_padded_indices</th>\n",
       "      <th>source_padding_mask</th>\n",
       "      <th>target_input_padding_mask</th>\n",
       "      <th>source_ratings</th>\n",
       "      <th>source_helpfulnesses</th>\n",
       "      <th>helpfulness_difference_vector</th>\n",
       "      <th>rating_difference_vector</th>\n",
       "      <th>length_difference_vector</th>\n",
       "    </tr>\n",
       "  </thead>\n",
       "  <tbody>\n",
       "    <tr>\n",
       "      <th>0</th>\n",
       "      <td>tt0004972</td>\n",
       "      <td>[{'title': 'Hateful, mean-spirited propaganda....</td>\n",
       "      <td>{'title': 'One of the all time greats', 'ratin...</td>\n",
       "      <td>-0.038816</td>\n",
       "      <td>6.0</td>\n",
       "      <td>-440.666667</td>\n",
       "      <td>[START] Considering when The Birth Of A Nation...</td>\n",
       "      <td>[START] It's an absolute shame that Griffith a...</td>\n",
       "      <td>[1, 591, 12, 88, 486, 1233, 2102, 529, 15077, ...</td>\n",
       "      <td>[1, 8304, 796, 544, 19301, 2279, 38, 11923, 53...</td>\n",
       "      <td>...</td>\n",
       "      <td>479</td>\n",
       "      <td>65</td>\n",
       "      <td>[0.0, 0.0, 0.0, 0.0, 0.0, 0.0, 0.0, 0.0, 0.0, ...</td>\n",
       "      <td>[False, False, False, False, False, False, Fal...</td>\n",
       "      <td>[False, False, False, False, False, False, Fal...</td>\n",
       "      <td>[0, 1, 1, 1, 1, 1, 1, 1, 1, 1, 1, 1, 1, 1, 1, ...</td>\n",
       "      <td>[0.0, 0.4722222222222222, 0.4722222222222222, ...</td>\n",
       "      <td>[0.0, -0.038816153152366806, -0.03881615315236...</td>\n",
       "      <td>[0.0, 6.0, 6.0, 6.0, 6.0, 6.0, 6.0, 6.0, 6.0, ...</td>\n",
       "      <td>[0.0, -440.66666666666663, -440.66666666666663...</td>\n",
       "    </tr>\n",
       "    <tr>\n",
       "      <th>1</th>\n",
       "      <td>tt0004972</td>\n",
       "      <td>[{'title': 'Horrible film', 'rating': 1, 'body...</td>\n",
       "      <td>{'title': 'Hateful, mean-spirited propaganda.....</td>\n",
       "      <td>0.013036</td>\n",
       "      <td>-6.0</td>\n",
       "      <td>-43.333333</td>\n",
       "      <td>[START] It's an absolute shame that Griffith a...</td>\n",
       "      <td>[START] This is a horrible racist film that is...</td>\n",
       "      <td>[1, 620, 488, 70, 1602, 4386, 563, 529, 488, 7...</td>\n",
       "      <td>[1, 591, 12, 88, 486, 1233, 2102, 529, 15077, ...</td>\n",
       "      <td>...</td>\n",
       "      <td>417</td>\n",
       "      <td>127</td>\n",
       "      <td>[0.0, 0.0, 0.0, 0.0, 0.0, 0.0, 0.0, 0.0, 0.0, ...</td>\n",
       "      <td>[False, False, False, False, False, False, Fal...</td>\n",
       "      <td>[False, False, False, False, False, False, Fal...</td>\n",
       "      <td>[0, 1, 1, 1, 1, 1, 1, 1, 1, 1, 1, 1, 1, 1, 1, ...</td>\n",
       "      <td>[0.0, 0.417910447761194, 0.417910447761194, 0....</td>\n",
       "      <td>[0.0, 0.01303569869948501, 0.01303569869948501...</td>\n",
       "      <td>[0.0, -6.0, -6.0, -6.0, -6.0, -6.0, -6.0, -6.0...</td>\n",
       "      <td>[0.0, -43.33333333333337, -43.33333333333337, ...</td>\n",
       "    </tr>\n",
       "  </tbody>\n",
       "</table>\n",
       "<p>2 rows × 27 columns</p>\n",
       "</div>"
      ],
      "text/plain": [
       "          id                                              input  \\\n",
       "0  tt0004972  [{'title': 'Hateful, mean-spirited propaganda....   \n",
       "1  tt0004972  [{'title': 'Horrible film', 'rating': 1, 'body...   \n",
       "\n",
       "                                              output  helpfulness_difference  \\\n",
       "0  {'title': 'One of the all time greats', 'ratin...               -0.038816   \n",
       "1  {'title': 'Hateful, mean-spirited propaganda.....                0.013036   \n",
       "\n",
       "   rating_difference  length_difference  \\\n",
       "0                6.0        -440.666667   \n",
       "1               -6.0         -43.333333   \n",
       "\n",
       "                                       target_string  \\\n",
       "0  [START] Considering when The Birth Of A Nation...   \n",
       "1  [START] It's an absolute shame that Griffith a...   \n",
       "\n",
       "                                       source_string  \\\n",
       "0  [START] It's an absolute shame that Griffith a...   \n",
       "1  [START] This is a horrible racist film that is...   \n",
       "\n",
       "                                source_numericalized  \\\n",
       "0  [1, 591, 12, 88, 486, 1233, 2102, 529, 15077, ...   \n",
       "1  [1, 620, 488, 70, 1602, 4386, 563, 529, 488, 7...   \n",
       "\n",
       "                                target_numericalized  ...  \\\n",
       "0  [1, 8304, 796, 544, 19301, 2279, 38, 11923, 53...  ...   \n",
       "1  [1, 591, 12, 88, 486, 1233, 2102, 529, 15077, ...  ...   \n",
       "\n",
       "  source_padding_token_first_index target_input_padding_token_first_index  \\\n",
       "0                              479                                     65   \n",
       "1                              417                                    127   \n",
       "\n",
       "                               source_padded_indices  \\\n",
       "0  [0.0, 0.0, 0.0, 0.0, 0.0, 0.0, 0.0, 0.0, 0.0, ...   \n",
       "1  [0.0, 0.0, 0.0, 0.0, 0.0, 0.0, 0.0, 0.0, 0.0, ...   \n",
       "\n",
       "                                 source_padding_mask  \\\n",
       "0  [False, False, False, False, False, False, Fal...   \n",
       "1  [False, False, False, False, False, False, Fal...   \n",
       "\n",
       "                           target_input_padding_mask  \\\n",
       "0  [False, False, False, False, False, False, Fal...   \n",
       "1  [False, False, False, False, False, False, Fal...   \n",
       "\n",
       "                                      source_ratings  \\\n",
       "0  [0, 1, 1, 1, 1, 1, 1, 1, 1, 1, 1, 1, 1, 1, 1, ...   \n",
       "1  [0, 1, 1, 1, 1, 1, 1, 1, 1, 1, 1, 1, 1, 1, 1, ...   \n",
       "\n",
       "                                source_helpfulnesses  \\\n",
       "0  [0.0, 0.4722222222222222, 0.4722222222222222, ...   \n",
       "1  [0.0, 0.417910447761194, 0.417910447761194, 0....   \n",
       "\n",
       "                       helpfulness_difference_vector  \\\n",
       "0  [0.0, -0.038816153152366806, -0.03881615315236...   \n",
       "1  [0.0, 0.01303569869948501, 0.01303569869948501...   \n",
       "\n",
       "                            rating_difference_vector  \\\n",
       "0  [0.0, 6.0, 6.0, 6.0, 6.0, 6.0, 6.0, 6.0, 6.0, ...   \n",
       "1  [0.0, -6.0, -6.0, -6.0, -6.0, -6.0, -6.0, -6.0...   \n",
       "\n",
       "                            length_difference_vector  \n",
       "0  [0.0, -440.66666666666663, -440.66666666666663...  \n",
       "1  [0.0, -43.33333333333337, -43.33333333333337, ...  \n",
       "\n",
       "[2 rows x 27 columns]"
      ]
     },
     "execution_count": 145,
     "metadata": {},
     "output_type": "execute_result"
    }
   ],
   "source": [
    "dataset[:2]"
   ]
  },
  {
   "cell_type": "code",
   "execution_count": 146,
   "metadata": {},
   "outputs": [],
   "source": [
    "train, validation = np.split(dataset.sample(frac=1, random_state=42), [int(0.85*len(dataset))])"
   ]
  },
  {
   "cell_type": "code",
   "execution_count": 147,
   "metadata": {},
   "outputs": [
    {
     "data": {
      "text/plain": [
       "(97278, 17167)"
      ]
     },
     "execution_count": 147,
     "metadata": {},
     "output_type": "execute_result"
    }
   ],
   "source": [
    "len(train), len(validation)"
   ]
  },
  {
   "cell_type": "code",
   "execution_count": null,
   "metadata": {},
   "outputs": [],
   "source": []
  },
  {
   "cell_type": "code",
   "execution_count": 148,
   "metadata": {},
   "outputs": [],
   "source": [
    "dataset.to_pickle(p.DATASET_NUMERICALIZED_PATH)\n",
    "train.to_pickle(p.TRAIN_NUMERICALIZED_PATH)\n",
    "validation.to_pickle(p.VALIDATION_NUMERICALIZED_PATH)"
   ]
  },
  {
   "cell_type": "code",
   "execution_count": 149,
   "metadata": {},
   "outputs": [],
   "source": [
    "tokenizer.save(p.TOKENIZER_TRAINED_ON_DATASET_PATH)"
   ]
  },
  {
   "cell_type": "code",
   "execution_count": null,
   "metadata": {},
   "outputs": [],
   "source": []
  },
  {
   "cell_type": "code",
   "execution_count": 129,
   "metadata": {},
   "outputs": [
    {
     "data": {
      "text/plain": [
       "[1447, 484, 1379, 80, 2844, 79]"
      ]
     },
     "execution_count": 129,
     "metadata": {},
     "output_type": "execute_result"
    }
   ],
   "source": [
    "tokenizer.encode(\"Marin je kralj\").ids"
   ]
  },
  {
   "cell_type": "code",
   "execution_count": 130,
   "metadata": {},
   "outputs": [
    {
     "data": {
      "text/plain": [
       "'Mar in je k ral j'"
      ]
     },
     "execution_count": 130,
     "metadata": {},
     "output_type": "execute_result"
    }
   ],
   "source": [
    "tokenizer.decode(tokenizer.encode(\"Marin je kralj\").ids)"
   ]
  },
  {
   "cell_type": "markdown",
   "metadata": {},
   "source": [
    "Mar ##in je k ##ral ##j -> Marin je kralj"
   ]
  },
  {
   "cell_type": "code",
   "execution_count": null,
   "metadata": {},
   "outputs": [],
   "source": []
  },
  {
   "cell_type": "code",
   "execution_count": 42,
   "metadata": {},
   "outputs": [],
   "source": [
    "validation_encoded = tokenizer.encode(validation_all_reviews_combined)"
   ]
  },
  {
   "cell_type": "code",
   "execution_count": 43,
   "metadata": {},
   "outputs": [
    {
     "data": {
      "text/plain": [
       "57"
      ]
     },
     "execution_count": 43,
     "metadata": {},
     "output_type": "execute_result"
    }
   ],
   "source": [
    "len(validation_encoded.ids) - np.count_nonzero(validation_encoded.ids)"
   ]
  },
  {
   "cell_type": "markdown",
   "metadata": {},
   "source": [
    "Uknown tokens from validation data"
   ]
  },
  {
   "cell_type": "code",
   "execution_count": 46,
   "metadata": {},
   "outputs": [
    {
     "data": {
      "text/plain": [
       "['🤘',\n",
       " 'ò',\n",
       " 'ò',\n",
       " 'ò',\n",
       " '🇦',\n",
       " '💘',\n",
       " 'Б',\n",
       " 'р',\n",
       " 'т',\n",
       " 'к',\n",
       " 'а',\n",
       " 'я',\n",
       " 'к',\n",
       " 'р',\n",
       " 'п',\n",
       " 'о',\n",
       " 'т',\n",
       " 'ь',\n",
       " 'Û',\n",
       " 'Ê',\n",
       " 'Ê',\n",
       " 'Ê',\n",
       " 'Ê',\n",
       " '\\x83',\n",
       " '🔟',\n",
       " '🔟',\n",
       " '💛',\n",
       " '💀',\n",
       " 'Ú',\n",
       " '（',\n",
       " '）',\n",
       " '\\x1b',\n",
       " '😮',\n",
       " '😰',\n",
       " '😰',\n",
       " '💋',\n",
       " '🗝',\n",
       " '͡',\n",
       " '͡',\n",
       " '͡',\n",
       " '͜',\n",
       " 'ʖ',\n",
       " '͡',\n",
       " '\\x8a',\n",
       " '🕷',\n",
       " '🕸',\n",
       " 'Ñ',\n",
       " '☝',\n",
       " 'ò',\n",
       " '\\x83',\n",
       " 'ű',\n",
       " 'к',\n",
       " 'л',\n",
       " 'ю',\n",
       " 'к',\n",
       " 'в',\n",
       " 'а']"
      ]
     },
     "execution_count": 46,
     "metadata": {},
     "output_type": "execute_result"
    }
   ],
   "source": [
    "[validation_all_reviews_combined[validation_encoded.offsets[i][0]:validation_encoded.offsets[i][1]] for i, id in enumerate(validation_encoded.ids) if id == tokenizer.token_to_id(t.UNKNOWN_TOKEN)]"
   ]
  }
 ],
 "metadata": {
  "kernelspec": {
   "display_name": "Python 3",
   "language": "python",
   "name": "python3"
  },
  "language_info": {
   "codemirror_mode": {
    "name": "ipython",
    "version": 3
   },
   "file_extension": ".py",
   "mimetype": "text/x-python",
   "name": "python",
   "nbconvert_exporter": "python",
   "pygments_lexer": "ipython3",
   "version": "3.8.3-final"
  }
 },
 "nbformat": 4,
 "nbformat_minor": 4
}